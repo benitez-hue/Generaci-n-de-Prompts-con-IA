{
  "nbformat": 4,
  "nbformat_minor": 0,
  "metadata": {
    "colab": {
      "provenance": [],
      "authorship_tag": "ABX9TyOc8TlQbmH30kh68tW30XAX",
      "include_colab_link": true
    },
    "kernelspec": {
      "name": "python3",
      "display_name": "Python 3"
    },
    "language_info": {
      "name": "python"
    }
  },
  "cells": [
    {
      "cell_type": "markdown",
      "metadata": {
        "id": "view-in-github",
        "colab_type": "text"
      },
      "source": [
        "<a href=\"https://colab.research.google.com/github/benitez-hue/Generaci-n-de-Prompts-con-IA/blob/main/Optimizaci%C3%B3n_de_la_Gesti%C3%B3n_de_Devoluciones_con_IAProyectoFinal_ipynb.ipynb\" target=\"_parent\"><img src=\"https://colab.research.google.com/assets/colab-badge.svg\" alt=\"Open In Colab\"/></a>"
      ]
    },
    {
      "cell_type": "code",
      "execution_count": null,
      "metadata": {
        "id": "Rh1FD0zngzYX"
      },
      "outputs": [],
      "source": []
    },
    {
      "cell_type": "markdown",
      "source": [],
      "metadata": {
        "id": "EQ0KHl1CN8Gi"
      }
    },
    {
      "cell_type": "markdown",
      "source": [
        "Optimización de la Gestión de Devoluciones con IA\n",
        "🚀 Implementación de Fast Prompting en la Gestión de Devoluciones\n",
        "\n",
        "📌 Problema: Gestión Ineficiente de Devoluciones en Empresas de Intermediación de Compras Internacionales\n",
        "Las empresas que actúan como intermediarias en compras internacionales enfrentan problemas recurrentes en la entrega de productos, generando costos adicionales y frustración en los clientes.\n",
        "\n",
        "🔴 Problemas Identificados:\n",
        "1️⃣ Errores en la entrega → Productos incorrectos enviados a los clientes finales por falta de validación antes del despacho.\n",
        "2️⃣ Mala comunicación → Falta de coordinación con el proveedor antes de enviar el producto al cliente.\n",
        "3️⃣ Procesos de devolución complejos → El cliente tiene que asumir costos de devolución o realizar trámites innecesarios.\n",
        "4️⃣ Retrasos en el reembolso → Si el proveedor no responde, la devolución se vuelve lenta.\n",
        "\n",
        "🚀 Solución Propuesta: Optimización con IA y Gestión Inteligente de Reclamos\n",
        "Objetivo: Automatizar la gestión de devoluciones y mejorar la logística con verificación de productos, notificación temprana al proveedor y mensajes personalizados para el cliente.\n",
        "🔥 Fases del Proyecto:\n",
        "1️⃣ Verificación del Pedido con IA → Comparación de imágenes y código de barras antes del envío.\n",
        "✅ Generación de mensajes personalizados según el valor del producto y tipo de cliente\n",
        "4️⃣ Comunicación con Proveedores y Clientes → Se prioriza la satisfacción del cliente antes de despachar productos erróneos.\n",
        "✅ Notificación al proveedor con el detalle del reclamo antes de despachar el producto incorrecto. ✅ Confirmación automática de reemplazo del producto. ✅ Si el proveedor no responde en un plazo establecido, se contacta directamente al soporte.\n",
        "\n",
        "📌 Ejemplo de Implementación: 🔹 Cliente VIP: \"Estimado/a Laura, lamentamos el inconveniente con su Notebook Pro. Hemos priorizado la gestión de su reclamo y su nuevo producto será enviado sin costos adicionales.\" 🔹 Proveedor: \"Orden N° 12345 - Producto incorrecto detectado. No será despachado al cliente. Por favor, enviar el producto correcto en un plazo de 48 horas.\"\n",
        "\n",
        " Seguimiento de Reembolsos y Optimización Logística Esta fase se encarga de verificar, gestionar y automatizar el proceso de reembolsos para que el sistema controle si el cliente realmente devolvió el producto antes de procesar el reembolso. ¿Para qué sirve esta fase? Cuando un cliente devuelve un producto, el reembolso no debería procesarse hasta que el producto sea recibido y validado. Esta fase automatiza ese proceso para evitar fraudes, errores o retrasos en los reembolsos.\n",
        "\n",
        "💡 Ejemplo de problema sin esta fase: 📦 Un cliente devuelve un producto, pero el reembolso se procesa sin verificar si el producto realmente llegó al centro de devoluciones. ➡ Consecuencia: La empresa pierde dinero si el producto nunca se devuelve.\n",
        "\n",
        "💡 Solución con IA: 📌 Un sistema automatizado rastrea el paquete devuelto y, cuando se recibe en el almacén, activa automáticamente el reembolso. Beneficios de esta Optimización ✅ Evita fraudes asegurando que solo se reembolsen pedidos realmente devueltos. ✅ Mejora la comunicación con el cliente enviando notificaciones automatizadas. ✅ Reduce la carga operativa del equipo de atención al cliente. ✅ Optimiza la logística al integrar una API de seguimiento de paquetes.  🚀 Beneficios del Sistema ✅ Clientes satisfechos: No tienen que lidiar con devoluciones costosas y lentas. ✅ Menos costos logísticos: Los errores se detectan antes del despacho. ✅ Mayor eficiencia operativa: El proceso es rápido y automatizado. ✅ Mejor relación con proveedores: Se establecen acuerdos claros de responsabilidad.\n",
        "\n",
        "🔹 Conclusión: La optimización de la gestión de devoluciones mediante IA, códigos QR y mensajes inteligentes garantiza una experiencia eficiente y sin fricciones para clientes y empresas. Al automatizar las verificaciones, devoluciones y reembolsos, se logra una logística más ágil y efectiva. Próximos Pasos: 1️⃣ Implementar mejoras en la detección de errores de productos con modelos más avanzados. 2️⃣ Agregar un sistema de seguimiento de proveedores para evitar demoras en los reemplazos. 3️⃣ Expandir el uso de códigos QR para mejorar la trazabilidad de los reclamos.\n",
        "\n",
        "\n",
        "\n",
        "\n",
        "\n"
      ],
      "metadata": {
        "id": "2DI2W8JtONaB"
      }
    },
    {
      "cell_type": "markdown",
      "source": [
        "Verificación de Producto con IA (Fase 1)\n",
        "🔍 Fase 1: Verificación Automática del Pedido con IA\n",
        "📦 Objetivo: Evitar que productos incorrectos lleguen al cliente final.\n",
        "\n",
        "✅ Comparación de imágenes con IA y SSIM.\n",
        "✅ Escaneo de código de barras o QR para verificar el número de pedido.\n",
        "✅ Validación con la base de datos antes de enviarlo.\n",
        "✅ Si hay error → Se genera un reclamo automático al proveedor antes del despacho."
      ],
      "metadata": {
        "id": "GavUzfKjRbCe"
      }
    },
    {
      "cell_type": "code",
      "source": [
        "!apt-get install libzbar0  # Instalar la biblioteca necesaria para leer códigos de barras\n",
        "!pip install opencv-python-headless pyzbar numpy pandas scikit-image matplotlib\n"
      ],
      "metadata": {
        "colab": {
          "base_uri": "https://localhost:8080/"
        },
        "id": "qwrsG-Eocxb7",
        "outputId": "b4a9046f-6b18-4f55-e446-405edfeedf9a"
      },
      "execution_count": 5,
      "outputs": [
        {
          "output_type": "stream",
          "name": "stdout",
          "text": [
            "Reading package lists... Done\n",
            "Building dependency tree... Done\n",
            "Reading state information... Done\n",
            "The following additional packages will be installed:\n",
            "  fonts-droid-fallback fonts-noto-mono fonts-urw-base35 ghostscript gsfonts imagemagick-6-common\n",
            "  libdjvulibre-text libdjvulibre21 libfftw3-double3 libgs9 libgs9-common libidn12 libijs-0.35\n",
            "  libjbig2dec0 libjxr-tools libjxr0 liblqr-1-0 libmagickcore-6.q16-6 libmagickcore-6.q16-6-extra\n",
            "  libmagickwand-6.q16-6 libv4l-0 libv4lconvert0 libwmflite-0.2-7 poppler-data\n",
            "Suggested packages:\n",
            "  fonts-noto fonts-freefont-otf | fonts-freefont-ttf fonts-texgyre ghostscript-x libfftw3-bin\n",
            "  libfftw3-dev inkscape poppler-utils fonts-japanese-mincho | fonts-ipafont-mincho\n",
            "  fonts-japanese-gothic | fonts-ipafont-gothic fonts-arphic-ukai fonts-arphic-uming fonts-nanum\n",
            "The following NEW packages will be installed:\n",
            "  fonts-droid-fallback fonts-noto-mono fonts-urw-base35 ghostscript gsfonts imagemagick-6-common\n",
            "  libdjvulibre-text libdjvulibre21 libfftw3-double3 libgs9 libgs9-common libidn12 libijs-0.35\n",
            "  libjbig2dec0 libjxr-tools libjxr0 liblqr-1-0 libmagickcore-6.q16-6 libmagickcore-6.q16-6-extra\n",
            "  libmagickwand-6.q16-6 libv4l-0 libv4lconvert0 libwmflite-0.2-7 libzbar0 poppler-data\n",
            "0 upgraded, 25 newly installed, 0 to remove and 29 not upgraded.\n",
            "Need to get 24.1 MB of archives.\n",
            "After this operation, 82.6 MB of additional disk space will be used.\n",
            "Get:1 http://archive.ubuntu.com/ubuntu jammy/main amd64 fonts-droid-fallback all 1:6.0.1r16-1.1build1 [1,805 kB]\n",
            "Get:2 http://archive.ubuntu.com/ubuntu jammy/main amd64 libfftw3-double3 amd64 3.3.8-2ubuntu8 [770 kB]\n",
            "Get:3 http://archive.ubuntu.com/ubuntu jammy/universe amd64 liblqr-1-0 amd64 0.4.2-2.1 [27.7 kB]\n",
            "Get:4 http://archive.ubuntu.com/ubuntu jammy-updates/universe amd64 imagemagick-6-common all 8:6.9.11.60+dfsg-1.3ubuntu0.22.04.5 [64.3 kB]\n",
            "Get:5 http://archive.ubuntu.com/ubuntu jammy-updates/universe amd64 libmagickcore-6.q16-6 amd64 8:6.9.11.60+dfsg-1.3ubuntu0.22.04.5 [1,795 kB]\n",
            "Get:6 http://archive.ubuntu.com/ubuntu jammy-updates/universe amd64 libmagickwand-6.q16-6 amd64 8:6.9.11.60+dfsg-1.3ubuntu0.22.04.5 [328 kB]\n",
            "Get:7 http://archive.ubuntu.com/ubuntu jammy/main amd64 poppler-data all 0.4.11-1 [2,171 kB]\n",
            "Get:8 http://archive.ubuntu.com/ubuntu jammy/main amd64 fonts-noto-mono all 20201225-1build1 [397 kB]\n",
            "Get:9 http://archive.ubuntu.com/ubuntu jammy/main amd64 fonts-urw-base35 all 20200910-1 [6,367 kB]\n",
            "Get:10 http://archive.ubuntu.com/ubuntu jammy-updates/main amd64 libgs9-common all 9.55.0~dfsg1-0ubuntu5.10 [752 kB]\n",
            "Get:11 http://archive.ubuntu.com/ubuntu jammy-updates/main amd64 libidn12 amd64 1.38-4ubuntu1 [60.0 kB]\n",
            "Get:12 http://archive.ubuntu.com/ubuntu jammy/main amd64 libijs-0.35 amd64 0.35-15build2 [16.5 kB]\n",
            "Get:13 http://archive.ubuntu.com/ubuntu jammy/main amd64 libjbig2dec0 amd64 0.19-3build2 [64.7 kB]\n",
            "Get:14 http://archive.ubuntu.com/ubuntu jammy-updates/main amd64 libgs9 amd64 9.55.0~dfsg1-0ubuntu5.10 [5,031 kB]\n",
            "Get:15 http://archive.ubuntu.com/ubuntu jammy-updates/main amd64 ghostscript amd64 9.55.0~dfsg1-0ubuntu5.10 [49.4 kB]\n",
            "Get:16 http://archive.ubuntu.com/ubuntu jammy/universe amd64 gsfonts all 1:8.11+urwcyr1.0.7~pre44-4.5 [3,120 kB]\n",
            "Get:17 http://archive.ubuntu.com/ubuntu jammy/main amd64 libdjvulibre-text all 3.5.28-2build2 [50.9 kB]\n",
            "Get:18 http://archive.ubuntu.com/ubuntu jammy/main amd64 libdjvulibre21 amd64 3.5.28-2build2 [624 kB]\n",
            "Get:19 http://archive.ubuntu.com/ubuntu jammy/universe amd64 libjxr0 amd64 1.2~git20170615.f752187-5 [174 kB]\n",
            "Get:20 http://archive.ubuntu.com/ubuntu jammy/universe amd64 libjxr-tools amd64 1.2~git20170615.f752187-5 [16.0 kB]\n",
            "Get:21 http://archive.ubuntu.com/ubuntu jammy/main amd64 libwmflite-0.2-7 amd64 0.2.12-5ubuntu1 [68.9 kB]\n",
            "Get:22 http://archive.ubuntu.com/ubuntu jammy-updates/universe amd64 libmagickcore-6.q16-6-extra amd64 8:6.9.11.60+dfsg-1.3ubuntu0.22.04.5 [70.1 kB]\n",
            "Get:23 http://archive.ubuntu.com/ubuntu jammy/main amd64 libv4lconvert0 amd64 1.22.1-2build1 [82.4 kB]\n",
            "Get:24 http://archive.ubuntu.com/ubuntu jammy/main amd64 libv4l-0 amd64 1.22.1-2build1 [44.9 kB]\n",
            "Get:25 http://archive.ubuntu.com/ubuntu jammy/universe amd64 libzbar0 amd64 0.23.92-4build2 [121 kB]\n",
            "Fetched 24.1 MB in 2s (12.4 MB/s)\n",
            "Selecting previously unselected package fonts-droid-fallback.\n",
            "(Reading database ... 124947 files and directories currently installed.)\n",
            "Preparing to unpack .../00-fonts-droid-fallback_1%3a6.0.1r16-1.1build1_all.deb ...\n",
            "Unpacking fonts-droid-fallback (1:6.0.1r16-1.1build1) ...\n",
            "Selecting previously unselected package libfftw3-double3:amd64.\n",
            "Preparing to unpack .../01-libfftw3-double3_3.3.8-2ubuntu8_amd64.deb ...\n",
            "Unpacking libfftw3-double3:amd64 (3.3.8-2ubuntu8) ...\n",
            "Selecting previously unselected package liblqr-1-0:amd64.\n",
            "Preparing to unpack .../02-liblqr-1-0_0.4.2-2.1_amd64.deb ...\n",
            "Unpacking liblqr-1-0:amd64 (0.4.2-2.1) ...\n",
            "Selecting previously unselected package imagemagick-6-common.\n",
            "Preparing to unpack .../03-imagemagick-6-common_8%3a6.9.11.60+dfsg-1.3ubuntu0.22.04.5_all.deb ...\n",
            "Unpacking imagemagick-6-common (8:6.9.11.60+dfsg-1.3ubuntu0.22.04.5) ...\n",
            "Selecting previously unselected package libmagickcore-6.q16-6:amd64.\n",
            "Preparing to unpack .../04-libmagickcore-6.q16-6_8%3a6.9.11.60+dfsg-1.3ubuntu0.22.04.5_amd64.deb ...\n",
            "Unpacking libmagickcore-6.q16-6:amd64 (8:6.9.11.60+dfsg-1.3ubuntu0.22.04.5) ...\n",
            "Selecting previously unselected package libmagickwand-6.q16-6:amd64.\n",
            "Preparing to unpack .../05-libmagickwand-6.q16-6_8%3a6.9.11.60+dfsg-1.3ubuntu0.22.04.5_amd64.deb ...\n",
            "Unpacking libmagickwand-6.q16-6:amd64 (8:6.9.11.60+dfsg-1.3ubuntu0.22.04.5) ...\n",
            "Selecting previously unselected package poppler-data.\n",
            "Preparing to unpack .../06-poppler-data_0.4.11-1_all.deb ...\n",
            "Unpacking poppler-data (0.4.11-1) ...\n",
            "Selecting previously unselected package fonts-noto-mono.\n",
            "Preparing to unpack .../07-fonts-noto-mono_20201225-1build1_all.deb ...\n",
            "Unpacking fonts-noto-mono (20201225-1build1) ...\n",
            "Selecting previously unselected package fonts-urw-base35.\n",
            "Preparing to unpack .../08-fonts-urw-base35_20200910-1_all.deb ...\n",
            "Unpacking fonts-urw-base35 (20200910-1) ...\n",
            "Selecting previously unselected package libgs9-common.\n",
            "Preparing to unpack .../09-libgs9-common_9.55.0~dfsg1-0ubuntu5.10_all.deb ...\n",
            "Unpacking libgs9-common (9.55.0~dfsg1-0ubuntu5.10) ...\n",
            "Selecting previously unselected package libidn12:amd64.\n",
            "Preparing to unpack .../10-libidn12_1.38-4ubuntu1_amd64.deb ...\n",
            "Unpacking libidn12:amd64 (1.38-4ubuntu1) ...\n",
            "Selecting previously unselected package libijs-0.35:amd64.\n",
            "Preparing to unpack .../11-libijs-0.35_0.35-15build2_amd64.deb ...\n",
            "Unpacking libijs-0.35:amd64 (0.35-15build2) ...\n",
            "Selecting previously unselected package libjbig2dec0:amd64.\n",
            "Preparing to unpack .../12-libjbig2dec0_0.19-3build2_amd64.deb ...\n",
            "Unpacking libjbig2dec0:amd64 (0.19-3build2) ...\n",
            "Selecting previously unselected package libgs9:amd64.\n",
            "Preparing to unpack .../13-libgs9_9.55.0~dfsg1-0ubuntu5.10_amd64.deb ...\n",
            "Unpacking libgs9:amd64 (9.55.0~dfsg1-0ubuntu5.10) ...\n",
            "Selecting previously unselected package ghostscript.\n",
            "Preparing to unpack .../14-ghostscript_9.55.0~dfsg1-0ubuntu5.10_amd64.deb ...\n",
            "Unpacking ghostscript (9.55.0~dfsg1-0ubuntu5.10) ...\n",
            "Selecting previously unselected package gsfonts.\n",
            "Preparing to unpack .../15-gsfonts_1%3a8.11+urwcyr1.0.7~pre44-4.5_all.deb ...\n",
            "Unpacking gsfonts (1:8.11+urwcyr1.0.7~pre44-4.5) ...\n",
            "Selecting previously unselected package libdjvulibre-text.\n",
            "Preparing to unpack .../16-libdjvulibre-text_3.5.28-2build2_all.deb ...\n",
            "Unpacking libdjvulibre-text (3.5.28-2build2) ...\n",
            "Selecting previously unselected package libdjvulibre21:amd64.\n",
            "Preparing to unpack .../17-libdjvulibre21_3.5.28-2build2_amd64.deb ...\n",
            "Unpacking libdjvulibre21:amd64 (3.5.28-2build2) ...\n",
            "Selecting previously unselected package libjxr0:amd64.\n",
            "Preparing to unpack .../18-libjxr0_1.2~git20170615.f752187-5_amd64.deb ...\n",
            "Unpacking libjxr0:amd64 (1.2~git20170615.f752187-5) ...\n",
            "Selecting previously unselected package libjxr-tools.\n",
            "Preparing to unpack .../19-libjxr-tools_1.2~git20170615.f752187-5_amd64.deb ...\n",
            "Unpacking libjxr-tools (1.2~git20170615.f752187-5) ...\n",
            "Selecting previously unselected package libwmflite-0.2-7:amd64.\n",
            "Preparing to unpack .../20-libwmflite-0.2-7_0.2.12-5ubuntu1_amd64.deb ...\n",
            "Unpacking libwmflite-0.2-7:amd64 (0.2.12-5ubuntu1) ...\n",
            "Selecting previously unselected package libmagickcore-6.q16-6-extra:amd64.\n",
            "Preparing to unpack .../21-libmagickcore-6.q16-6-extra_8%3a6.9.11.60+dfsg-1.3ubuntu0.22.04.5_amd64.deb ...\n",
            "Unpacking libmagickcore-6.q16-6-extra:amd64 (8:6.9.11.60+dfsg-1.3ubuntu0.22.04.5) ...\n",
            "Selecting previously unselected package libv4lconvert0:amd64.\n",
            "Preparing to unpack .../22-libv4lconvert0_1.22.1-2build1_amd64.deb ...\n",
            "Unpacking libv4lconvert0:amd64 (1.22.1-2build1) ...\n",
            "Selecting previously unselected package libv4l-0:amd64.\n",
            "Preparing to unpack .../23-libv4l-0_1.22.1-2build1_amd64.deb ...\n",
            "Unpacking libv4l-0:amd64 (1.22.1-2build1) ...\n",
            "Selecting previously unselected package libzbar0:amd64.\n",
            "Preparing to unpack .../24-libzbar0_0.23.92-4build2_amd64.deb ...\n",
            "Unpacking libzbar0:amd64 (0.23.92-4build2) ...\n",
            "Setting up imagemagick-6-common (8:6.9.11.60+dfsg-1.3ubuntu0.22.04.5) ...\n",
            "Setting up fonts-noto-mono (20201225-1build1) ...\n",
            "Setting up libwmflite-0.2-7:amd64 (0.2.12-5ubuntu1) ...\n",
            "Setting up libijs-0.35:amd64 (0.35-15build2) ...\n",
            "Setting up libjxr0:amd64 (1.2~git20170615.f752187-5) ...\n",
            "Setting up fonts-urw-base35 (20200910-1) ...\n",
            "Setting up poppler-data (0.4.11-1) ...\n",
            "Setting up libjbig2dec0:amd64 (0.19-3build2) ...\n",
            "Setting up gsfonts (1:8.11+urwcyr1.0.7~pre44-4.5) ...\n",
            "Setting up libidn12:amd64 (1.38-4ubuntu1) ...\n",
            "Setting up libfftw3-double3:amd64 (3.3.8-2ubuntu8) ...\n",
            "Setting up liblqr-1-0:amd64 (0.4.2-2.1) ...\n",
            "Setting up libv4lconvert0:amd64 (1.22.1-2build1) ...\n",
            "Setting up fonts-droid-fallback (1:6.0.1r16-1.1build1) ...\n",
            "Setting up libdjvulibre-text (3.5.28-2build2) ...\n",
            "Setting up libgs9-common (9.55.0~dfsg1-0ubuntu5.10) ...\n",
            "Setting up libjxr-tools (1.2~git20170615.f752187-5) ...\n",
            "Setting up libgs9:amd64 (9.55.0~dfsg1-0ubuntu5.10) ...\n",
            "Setting up libdjvulibre21:amd64 (3.5.28-2build2) ...\n",
            "Setting up ghostscript (9.55.0~dfsg1-0ubuntu5.10) ...\n",
            "Setting up libv4l-0:amd64 (1.22.1-2build1) ...\n",
            "Setting up libmagickcore-6.q16-6:amd64 (8:6.9.11.60+dfsg-1.3ubuntu0.22.04.5) ...\n",
            "Setting up libmagickwand-6.q16-6:amd64 (8:6.9.11.60+dfsg-1.3ubuntu0.22.04.5) ...\n",
            "Setting up libmagickcore-6.q16-6-extra:amd64 (8:6.9.11.60+dfsg-1.3ubuntu0.22.04.5) ...\n",
            "Setting up libzbar0:amd64 (0.23.92-4build2) ...\n",
            "Processing triggers for man-db (2.10.2-1) ...\n",
            "Processing triggers for fontconfig (2.13.1-4.2ubuntu5) ...\n",
            "Processing triggers for libc-bin (2.35-0ubuntu3.8) ...\n",
            "/sbin/ldconfig.real: /usr/local/lib/libtcm.so.1 is not a symbolic link\n",
            "\n",
            "/sbin/ldconfig.real: /usr/local/lib/libur_loader.so.0 is not a symbolic link\n",
            "\n",
            "/sbin/ldconfig.real: /usr/local/lib/libhwloc.so.15 is not a symbolic link\n",
            "\n",
            "/sbin/ldconfig.real: /usr/local/lib/libur_adapter_opencl.so.0 is not a symbolic link\n",
            "\n",
            "/sbin/ldconfig.real: /usr/local/lib/libtcm_debug.so.1 is not a symbolic link\n",
            "\n",
            "/sbin/ldconfig.real: /usr/local/lib/libur_adapter_level_zero.so.0 is not a symbolic link\n",
            "\n",
            "/sbin/ldconfig.real: /usr/local/lib/libtbbbind.so.3 is not a symbolic link\n",
            "\n",
            "/sbin/ldconfig.real: /usr/local/lib/libtbbmalloc_proxy.so.2 is not a symbolic link\n",
            "\n",
            "/sbin/ldconfig.real: /usr/local/lib/libtbbbind_2_0.so.3 is not a symbolic link\n",
            "\n",
            "/sbin/ldconfig.real: /usr/local/lib/libtbbmalloc.so.2 is not a symbolic link\n",
            "\n",
            "/sbin/ldconfig.real: /usr/local/lib/libtbb.so.12 is not a symbolic link\n",
            "\n",
            "/sbin/ldconfig.real: /usr/local/lib/libtbbbind_2_5.so.3 is not a symbolic link\n",
            "\n",
            "/sbin/ldconfig.real: /usr/local/lib/libumf.so.0 is not a symbolic link\n",
            "\n",
            "Requirement already satisfied: opencv-python-headless in /usr/local/lib/python3.11/dist-packages (4.11.0.86)\n",
            "Requirement already satisfied: pyzbar in /usr/local/lib/python3.11/dist-packages (0.1.9)\n",
            "Requirement already satisfied: numpy in /usr/local/lib/python3.11/dist-packages (1.26.4)\n",
            "Requirement already satisfied: pandas in /usr/local/lib/python3.11/dist-packages (2.2.2)\n",
            "Requirement already satisfied: scikit-image in /usr/local/lib/python3.11/dist-packages (0.25.2)\n",
            "Requirement already satisfied: matplotlib in /usr/local/lib/python3.11/dist-packages (3.10.0)\n",
            "Requirement already satisfied: python-dateutil>=2.8.2 in /usr/local/lib/python3.11/dist-packages (from pandas) (2.8.2)\n",
            "Requirement already satisfied: pytz>=2020.1 in /usr/local/lib/python3.11/dist-packages (from pandas) (2025.1)\n",
            "Requirement already satisfied: tzdata>=2022.7 in /usr/local/lib/python3.11/dist-packages (from pandas) (2025.1)\n",
            "Requirement already satisfied: scipy>=1.11.4 in /usr/local/lib/python3.11/dist-packages (from scikit-image) (1.13.1)\n",
            "Requirement already satisfied: networkx>=3.0 in /usr/local/lib/python3.11/dist-packages (from scikit-image) (3.4.2)\n",
            "Requirement already satisfied: pillow>=10.1 in /usr/local/lib/python3.11/dist-packages (from scikit-image) (11.1.0)\n",
            "Requirement already satisfied: imageio!=2.35.0,>=2.33 in /usr/local/lib/python3.11/dist-packages (from scikit-image) (2.37.0)\n",
            "Requirement already satisfied: tifffile>=2022.8.12 in /usr/local/lib/python3.11/dist-packages (from scikit-image) (2025.2.18)\n",
            "Requirement already satisfied: packaging>=21 in /usr/local/lib/python3.11/dist-packages (from scikit-image) (24.2)\n",
            "Requirement already satisfied: lazy-loader>=0.4 in /usr/local/lib/python3.11/dist-packages (from scikit-image) (0.4)\n",
            "Requirement already satisfied: contourpy>=1.0.1 in /usr/local/lib/python3.11/dist-packages (from matplotlib) (1.3.1)\n",
            "Requirement already satisfied: cycler>=0.10 in /usr/local/lib/python3.11/dist-packages (from matplotlib) (0.12.1)\n",
            "Requirement already satisfied: fonttools>=4.22.0 in /usr/local/lib/python3.11/dist-packages (from matplotlib) (4.56.0)\n",
            "Requirement already satisfied: kiwisolver>=1.3.1 in /usr/local/lib/python3.11/dist-packages (from matplotlib) (1.4.8)\n",
            "Requirement already satisfied: pyparsing>=2.3.1 in /usr/local/lib/python3.11/dist-packages (from matplotlib) (3.2.1)\n",
            "Requirement already satisfied: six>=1.5 in /usr/local/lib/python3.11/dist-packages (from python-dateutil>=2.8.2->pandas) (1.17.0)\n"
          ]
        }
      ]
    },
    {
      "cell_type": "code",
      "source": [
        "import os\n",
        "print(os.listdir())  # Lista los archivos en el directorio actual\n"
      ],
      "metadata": {
        "colab": {
          "base_uri": "https://localhost:8080/"
        },
        "id": "vRRupAG9eQGQ",
        "outputId": "f8108df7-79fc-412b-87ef-5da3c125608c"
      },
      "execution_count": 8,
      "outputs": [
        {
          "output_type": "stream",
          "name": "stdout",
          "text": [
            "['.config', 'sample_data']\n"
          ]
        }
      ]
    },
    {
      "cell_type": "code",
      "source": [
        "import cv2\n",
        "\n",
        "imagen_path = \"codigo_barras.jpg\"\n",
        "\n",
        "if not os.path.exists(imagen_path):\n",
        "    print(f\"❌ Error: La imagen {imagen_path} no existe.\")\n",
        "else:\n",
        "    img = cv2.imread(imagen_path)\n",
        "    if img is None:\n",
        "        print(f\"❌ Error: No se pudo cargar la imagen {imagen_path}.\")\n",
        "    else:\n",
        "        print(\"✅ Imagen cargada correctamente.\")\n"
      ],
      "metadata": {
        "colab": {
          "base_uri": "https://localhost:8080/"
        },
        "id": "B5qAPclVeWTP",
        "outputId": "8b69d680-44eb-4dd1-9c41-d9c6f84c4177"
      },
      "execution_count": 9,
      "outputs": [
        {
          "output_type": "stream",
          "name": "stdout",
          "text": [
            "❌ Error: La imagen codigo_barras.jpg no existe.\n"
          ]
        }
      ]
    },
    {
      "cell_type": "code",
      "source": [
        "!pip install opencv-python qrcode[pil] pandas numpy matplotlib pyzbar scikit-image\n",
        "import cv2\n",
        "import numpy as np\n",
        "import pandas as pd\n",
        "from pyzbar.pyzbar import decode\n",
        "from skimage.metrics import structural_similarity as ssim\n",
        "\n",
        "print(\"✅ Todas las librerías importadas correctamente.\")\n"
      ],
      "metadata": {
        "colab": {
          "base_uri": "https://localhost:8080/"
        },
        "id": "Vikv2qrLbyU8",
        "outputId": "e57128d5-1854-4a23-b6fa-ba7dfa5721f3"
      },
      "execution_count": 6,
      "outputs": [
        {
          "output_type": "stream",
          "name": "stdout",
          "text": [
            "Requirement already satisfied: opencv-python in /usr/local/lib/python3.11/dist-packages (4.11.0.86)\n",
            "Requirement already satisfied: pandas in /usr/local/lib/python3.11/dist-packages (2.2.2)\n",
            "Requirement already satisfied: numpy in /usr/local/lib/python3.11/dist-packages (1.26.4)\n",
            "Requirement already satisfied: matplotlib in /usr/local/lib/python3.11/dist-packages (3.10.0)\n",
            "Requirement already satisfied: pyzbar in /usr/local/lib/python3.11/dist-packages (0.1.9)\n",
            "Requirement already satisfied: scikit-image in /usr/local/lib/python3.11/dist-packages (0.25.2)\n",
            "Requirement already satisfied: qrcode[pil] in /usr/local/lib/python3.11/dist-packages (8.0)\n",
            "Requirement already satisfied: pillow>=9.1.0 in /usr/local/lib/python3.11/dist-packages (from qrcode[pil]) (11.1.0)\n",
            "Requirement already satisfied: python-dateutil>=2.8.2 in /usr/local/lib/python3.11/dist-packages (from pandas) (2.8.2)\n",
            "Requirement already satisfied: pytz>=2020.1 in /usr/local/lib/python3.11/dist-packages (from pandas) (2025.1)\n",
            "Requirement already satisfied: tzdata>=2022.7 in /usr/local/lib/python3.11/dist-packages (from pandas) (2025.1)\n",
            "Requirement already satisfied: contourpy>=1.0.1 in /usr/local/lib/python3.11/dist-packages (from matplotlib) (1.3.1)\n",
            "Requirement already satisfied: cycler>=0.10 in /usr/local/lib/python3.11/dist-packages (from matplotlib) (0.12.1)\n",
            "Requirement already satisfied: fonttools>=4.22.0 in /usr/local/lib/python3.11/dist-packages (from matplotlib) (4.56.0)\n",
            "Requirement already satisfied: kiwisolver>=1.3.1 in /usr/local/lib/python3.11/dist-packages (from matplotlib) (1.4.8)\n",
            "Requirement already satisfied: packaging>=20.0 in /usr/local/lib/python3.11/dist-packages (from matplotlib) (24.2)\n",
            "Requirement already satisfied: pyparsing>=2.3.1 in /usr/local/lib/python3.11/dist-packages (from matplotlib) (3.2.1)\n",
            "Requirement already satisfied: scipy>=1.11.4 in /usr/local/lib/python3.11/dist-packages (from scikit-image) (1.13.1)\n",
            "Requirement already satisfied: networkx>=3.0 in /usr/local/lib/python3.11/dist-packages (from scikit-image) (3.4.2)\n",
            "Requirement already satisfied: imageio!=2.35.0,>=2.33 in /usr/local/lib/python3.11/dist-packages (from scikit-image) (2.37.0)\n",
            "Requirement already satisfied: tifffile>=2022.8.12 in /usr/local/lib/python3.11/dist-packages (from scikit-image) (2025.2.18)\n",
            "Requirement already satisfied: lazy-loader>=0.4 in /usr/local/lib/python3.11/dist-packages (from scikit-image) (0.4)\n",
            "Requirement already satisfied: six>=1.5 in /usr/local/lib/python3.11/dist-packages (from python-dateutil>=2.8.2->pandas) (1.17.0)\n",
            "✅ Todas las librerías importadas correctamente.\n"
          ]
        }
      ]
    },
    {
      "cell_type": "code",
      "source": [
        "\n",
        "import os\n",
        "print(os.listdir())  # Lista los archivos en el directorio actual\n"
      ],
      "metadata": {
        "colab": {
          "base_uri": "https://localhost:8080/"
        },
        "id": "ePj6CD0OfY2o",
        "outputId": "cc8de73d-22a3-4ce2-f0da-c2663a17a0f7"
      },
      "execution_count": 12,
      "outputs": [
        {
          "output_type": "stream",
          "name": "stdout",
          "text": [
            "['.config', 'sample_data']\n"
          ]
        }
      ]
    },
    {
      "cell_type": "code",
      "source": [
        "import cv2\n",
        "\n",
        "imagen_path = \"codigo_barras.jpg\"\n",
        "\n",
        "if not os.path.exists(imagen_path):\n",
        "    print(f\"❌ Error: La imagen {imagen_path} no existe.\")\n",
        "else:\n",
        "    img = cv2.imread(imagen_path)\n",
        "    if img is None:\n",
        "        print(f\"❌ Error: No se pudo cargar la imagen {imagen_path}.\")\n",
        "    else:\n",
        "        print(\"✅ Imagen cargada correctamente.\")\n"
      ],
      "metadata": {
        "colab": {
          "base_uri": "https://localhost:8080/"
        },
        "id": "9hLl2b8rfua7",
        "outputId": "79689c1f-c4d7-4453-9f69-f29182d48547"
      },
      "execution_count": 13,
      "outputs": [
        {
          "output_type": "stream",
          "name": "stdout",
          "text": [
            "❌ Error: La imagen codigo_barras.jpg no existe.\n"
          ]
        }
      ]
    },
    {
      "cell_type": "code",
      "source": [
        "import cv2\n",
        "from pyzbar.pyzbar import decode\n",
        "\n",
        "def validar_codigo_barras(imagen_path):\n",
        "    img = cv2.imread(imagen_path)\n",
        "\n",
        "    if img is None:\n",
        "        return \"❌ Error: No se pudo cargar la imagen.\"\n",
        "\n",
        "    img_gris = cv2.cvtColor(img, cv2.COLOR_BGR2GRAY)  # Convertir a escala de grises\n",
        "    codigos = decode(img_gris)\n",
        "\n",
        "    if not codigos:\n",
        "        return \"❌ No se detectó ningún código de barras en la imagen.\"\n",
        "\n",
        "    for codigo in codigos:\n",
        "        return f\"✅ Código de barras detectado: {codigo.data.decode('utf-8')}\"\n",
        "\n",
        "# 🔥 **Prueba con la imagen**\n",
        "print(validar_codigo_barras(\"codigo_barras.jpg\"))\n"
      ],
      "metadata": {
        "colab": {
          "base_uri": "https://localhost:8080/"
        },
        "id": "us_1juEzf0GC",
        "outputId": "46a5e640-4c27-40a4-d946-857702e10f58"
      },
      "execution_count": 14,
      "outputs": [
        {
          "output_type": "stream",
          "name": "stdout",
          "text": [
            "❌ Error: No se pudo cargar la imagen.\n"
          ]
        }
      ]
    },
    {
      "cell_type": "code",
      "source": [
        "import qrcode\n",
        "\n",
        "# Generar un código QR de prueba\n",
        "qr = qrcode.make(\"1234567890\")\n",
        "qr.save(\"codigo_barras.jpg\")\n",
        "print(\"✅ Código de barras de prueba generado como 'codigo_barras.jpg'.\")\n"
      ],
      "metadata": {
        "colab": {
          "base_uri": "https://localhost:8080/"
        },
        "id": "lFvIkYFxf5lz",
        "outputId": "74da6fe7-7a94-4b96-d7ea-a006e72558a7"
      },
      "execution_count": 15,
      "outputs": [
        {
          "output_type": "stream",
          "name": "stdout",
          "text": [
            "✅ Código de barras de prueba generado como 'codigo_barras.jpg'.\n"
          ]
        }
      ]
    },
    {
      "cell_type": "code",
      "source": [
        "import cv2\n",
        "import numpy as np\n",
        "import pandas as pd\n",
        "import qrcode\n",
        "from pyzbar.pyzbar import decode\n",
        "from skimage.metrics import structural_similarity as ssim\n",
        "\n",
        "# 📌 **Base de datos de pedidos**\n",
        "df_pedidos = pd.DataFrame({\n",
        "    \"id_pedido\": [\"12345\", \"67890\", \"54321\"],\n",
        "    \"producto_esperado\": [\"Notebook Pro\", \"Celular X\", \"Auriculares Inalámbricos\"],\n",
        "    \"codigo_barras\": [\"987654321\", \"123456789\", \"567890123\"]\n",
        "})\n",
        "\n",
        "# 📌 **Función para verificar código QR o de barras**\n",
        "def escanear_codigo(imagen_codigo):\n",
        "    img = cv2.imread(imagen_codigo)\n",
        "    codigos = decode(img)\n",
        "    if not codigos:\n",
        "        return \"⚠️ No se detectó ningún código.\"\n",
        "    return codigos[0].data.decode('utf-8')\n",
        "\n",
        "# 📌 **Función para verificar pedido**\n",
        "def verificar_pedido(id_pedido, producto_recibido):\n",
        "    pedido = df_pedidos[df_pedidos[\"id_pedido\"] == id_pedido]\n",
        "    if pedido.empty:\n",
        "        return \"⚠️ Pedido no encontrado.\"\n",
        "\n",
        "    if producto_recibido == pedido[\"producto_esperado\"].values[0]:\n",
        "        return f\"✅ Pedido {id_pedido} confirmado. Producto correcto.\"\n",
        "    else:\n",
        "        return f\"🚨 ERROR: Se esperaba {pedido['producto_esperado'].values[0]}, pero se recibió {producto_recibido}.\"\n",
        "\n",
        "# 📌 **Función principal**\n",
        "def validar_producto(id_pedido, imagen_codigo):\n",
        "    codigo_leido = escanear_codigo(imagen_codigo)\n",
        "    if codigo_leido == \"⚠️ No se detectó ningún código.\":\n",
        "        return \"⚠️ Código de barras/QR inválido.\"\n",
        "\n",
        "    pedido = df_pedidos[df_pedidos[\"id_pedido\"] == id_pedido]\n",
        "    if pedido.empty or codigo_leido != pedido[\"codigo_barras\"].values[0]:\n",
        "        return \"🚨 ERROR: Código incorrecto.\"\n",
        "\n",
        "    return verificar_pedido(id_pedido, pedido[\"producto_esperado\"].values[0])\n",
        "\n",
        "# 🔥 **Prueba**\n",
        "print(validar_producto(\"12345\", \"codigo_barras.jpg\"))\n"
      ],
      "metadata": {
        "colab": {
          "base_uri": "https://localhost:8080/"
        },
        "id": "_rGXHumLRsSx",
        "outputId": "af4fa026-fb2e-4b7f-8b5d-c9fda171dc94"
      },
      "execution_count": 16,
      "outputs": [
        {
          "output_type": "stream",
          "name": "stdout",
          "text": [
            "🚨 ERROR: Código incorrecto.\n"
          ]
        }
      ]
    },
    {
      "cell_type": "markdown",
      "source": [
        "Comunicación Inteligente con Clientes y Proveedores\n",
        "📌 Objetivo: Notificar a los clientes y proveedores automáticamente según el estado del pedido.\n",
        "\n",
        "✔ Mensajes personalizados según el tipo de cliente y producto.\n",
        "✔ Notificación al proveedor antes de enviar el producto incorrecto.\n",
        "✔ Confirmación automática de reemplazo. Notificación a Proveedores y Seguimiento de Respuesta\n",
        "Este código:\n",
        "\n",
        "📩 Envía un mensaje al proveedor sobre el error en el pedido.\n",
        "⏳ Espera la respuesta del proveedor (simulación).\n",
        "🚛 Si el proveedor confirma el reemplazo, pregunta cuánto tiempo tardará.\n",
        "🔔 Notifica al cliente cuándo recibirá el nuevo producto.\n",
        "💰 Si el proveedor no puede reemplazar el producto, se activa el reembolso y se generan instrucciones de devolución.\n"
      ],
      "metadata": {
        "id": "NrJoG0kEgdZN"
      }
    },
    {
      "cell_type": "code",
      "source": [
        "import time\n",
        "import random\n",
        "\n",
        "def notificar_proveedor(orden, producto_correcto, producto_erroneo, proveedor_email):\n",
        "    \"\"\"\n",
        "    Notifica al proveedor que el producto incorrecto ha sido detectado antes del despacho.\n",
        "    Se solicita el reemplazo inmediato sin costo para el cliente.\n",
        "    \"\"\"\n",
        "    mensaje_proveedor = f\"\"\"\n",
        "    --- NOTIFICACIÓN DE ERROR EN ORDEN {orden} ---\n",
        "\n",
        "    Producto esperado: {producto_correcto}\n",
        "    Producto recibido: {producto_erroneo}\n",
        "\n",
        "    Se ha detectado un error antes del despacho.\n",
        "    Se solicita el reemplazo inmediato del producto correcto sin costos adicionales para el cliente.\n",
        "\n",
        "    Plazo de respuesta: 48 horas.\n",
        "\n",
        "    Favor confirmar recepción de este mensaje y la gestión del reemplazo.\n",
        "    \"\"\"\n",
        "\n",
        "    print(\"Mensaje al proveedor enviado correctamente.\")\n",
        "    return mensaje_proveedor\n",
        "\n",
        "\n",
        "def recibir_respuesta_proveedor():\n",
        "    \"\"\"\n",
        "    Simula la respuesta del proveedor:\n",
        "    - True: Puede enviar el producto correcto.\n",
        "    - False: No puede enviarlo y procede al reembolso.\n",
        "    \"\"\"\n",
        "    return random.choice([True, False])\n",
        "\n",
        "\n",
        "def gestionar_respuesta_proveedor(orden, producto_correcto, producto_erroneo):\n",
        "    \"\"\"\n",
        "    Maneja la respuesta del proveedor:\n",
        "    - Si el proveedor confirma reemplazo, solicita tiempo de entrega.\n",
        "    - Si no puede reemplazar, se activa el reembolso y devolución.\n",
        "    \"\"\"\n",
        "    respuesta = recibir_respuesta_proveedor()\n",
        "\n",
        "    if respuesta:\n",
        "        tiempo_envio = random.randint(3, 7)  # Simula tiempo de envío entre 3 y 7 días\n",
        "        return f\"El producto correcto será enviado en {tiempo_envio} días.\", tiempo_envio\n",
        "    else:\n",
        "        return \"Reembolso procesado. Se enviarán instrucciones para la devolución.\", None\n",
        "\n",
        "\n",
        "def generar_mensaje_cliente(cliente, producto, tiempo_envio=None):\n",
        "    \"\"\"\n",
        "    Genera el mensaje para el cliente según la respuesta del proveedor:\n",
        "    - Si el proveedor envía el producto, se informa el tiempo de entrega.\n",
        "    - Si el proveedor no puede reemplazarlo, se informa sobre el reembolso.\n",
        "    \"\"\"\n",
        "    if tiempo_envio:\n",
        "        return f\"{cliente}, lamentamos el inconveniente con tu {producto}. El reemplazo ha sido procesado y será enviado en {tiempo_envio} días.\"\n",
        "    else:\n",
        "        return f\"{cliente}, lamentamos el error con tu {producto}. Como el proveedor no puede enviarlo, hemos procesado un reembolso. Te enviaremos instrucciones para la devolución.\"\n",
        "\n",
        "\n",
        "# **Prueba del Sistema**\n",
        "cliente = \"Laura\"\n",
        "producto_correcto = \"Notebook Pro\"\n",
        "producto_erroneo = \"Notebook Básica\"\n",
        "orden = \"12345\"\n",
        "proveedor_email = \"proveedor@empresa.com\"\n",
        "\n",
        "# 1️⃣ Notificar al proveedor\n",
        "mensaje_proveedor = notificar_proveedor(orden, producto_correcto, producto_erroneo, proveedor_email)\n",
        "print(\"\\nMensaje enviado al proveedor:\")\n",
        "print(mensaje_proveedor)\n",
        "\n",
        "# 2️⃣ Recibir respuesta del proveedor\n",
        "respuesta_proveedor, tiempo_envio = gestionar_respuesta_proveedor(orden, producto_correcto, producto_erroneo)\n",
        "\n",
        "# 3️⃣ Generar mensaje para el cliente según la respuesta del proveedor\n",
        "mensaje_cliente = generar_mensaje_cliente(cliente, producto_correcto, tiempo_envio)\n",
        "print(\"\\nMensaje generado para el cliente:\")\n",
        "print(mensaje_cliente)\n"
      ],
      "metadata": {
        "colab": {
          "base_uri": "https://localhost:8080/"
        },
        "id": "AeIEIf1s3glW",
        "outputId": "b0e06efc-ebb6-4ad5-e9e0-e27fa8bfaa4d"
      },
      "execution_count": 52,
      "outputs": [
        {
          "output_type": "stream",
          "name": "stdout",
          "text": [
            "Mensaje al proveedor enviado correctamente.\n",
            "\n",
            "Mensaje enviado al proveedor:\n",
            "\n",
            "    --- NOTIFICACIÓN DE ERROR EN ORDEN 12345 ---\n",
            "    \n",
            "    Producto esperado: Notebook Pro\n",
            "    Producto recibido: Notebook Básica\n",
            "    \n",
            "    Se ha detectado un error antes del despacho. \n",
            "    Se solicita el reemplazo inmediato del producto correcto sin costos adicionales para el cliente.\n",
            "    \n",
            "    Plazo de respuesta: 48 horas.\n",
            "    \n",
            "    Favor confirmar recepción de este mensaje y la gestión del reemplazo.\n",
            "    \n",
            "\n",
            "Mensaje generado para el cliente:\n",
            "Laura, lamentamos el error con tu Notebook Pro. Como el proveedor no puede enviarlo, hemos procesado un reembolso. Te enviaremos instrucciones para la devolución.\n"
          ]
        }
      ]
    },
    {
      "cell_type": "markdown",
      "source": [
        "Generación de Código QR para Devolución"
      ],
      "metadata": {
        "id": "AjVa_DNf6XFz"
      }
    },
    {
      "cell_type": "code",
      "source": [
        "import qrcode\n",
        "import matplotlib.pyplot as plt\n",
        "\n",
        "def generar_codigo_qr(info_devolucion, nombre_archivo=\"codigo_qr.png\"):\n",
        "    \"\"\"\n",
        "    Genera un código QR con los datos de devolución, lo guarda como imagen\n",
        "    y lo muestra en pantalla.\n",
        "    \"\"\"\n",
        "\n",
        "    # Crear código QR\n",
        "    qr = qrcode.make(info_devolucion)\n",
        "    qr.save(nombre_archivo)  # Guardar QR como imagen\n",
        "\n",
        "    # Mostrar el código QR generado\n",
        "    plt.imshow(qr, cmap=\"gray\")\n",
        "    plt.axis(\"off\")  # Ocultar ejes\n",
        "    plt.show()\n",
        "\n",
        "    print(f\"✅ Código QR generado y guardado como: {nombre_archivo}\")\n",
        "\n",
        "# Ejemplo de uso:\n",
        "# generar_codigo_qr(\"Orden: 12345 - Punto de devolución: Sucursal A\")\n"
      ],
      "metadata": {
        "id": "DL71nVSh6WTT"
      },
      "execution_count": 55,
      "outputs": []
    },
    {
      "cell_type": "markdown",
      "source": [
        "Seguimiento y Reembolsos Automatizados (Fase 3)"
      ],
      "metadata": {
        "id": "5BjYbmP36lZd"
      }
    },
    {
      "cell_type": "code",
      "source": [
        "import time\n",
        "import random\n",
        "\n",
        "def verificar_estado_envio(tracking_number):\n",
        "    \"\"\"\n",
        "    Simula la verificación del estado de una devolución.\n",
        "    \"\"\"\n",
        "    estados = [\"En tránsito\", \"Pendiente de envío\", \"Entregado\"]\n",
        "    return random.choice(estados)\n",
        "\n",
        "def seguimiento_reembolso(orden, tracking_number, email_cliente):\n",
        "    \"\"\"\n",
        "    Verifica el estado de la devolución usando un tracking number.\n",
        "    Si el producto fue recibido, aprueba automáticamente el reembolso y envía una notificación al cliente.\n",
        "    \"\"\"\n",
        "    print(f\"📌 Consultando estado de la devolución para la orden {orden}...\")\n",
        "\n",
        "    estado = verificar_estado_envio(tracking_number)\n",
        "    time.sleep(2)  # Simulación de tiempo de consulta\n",
        "\n",
        "    if estado == \"Entregado\":\n",
        "        print(f\"✅ Producto recibido. Reembolso procesado para la orden {orden}. Será acreditado en 3 días hábiles.\")\n",
        "    else:\n",
        "        print(f\"⚠️ Aún no hemos recibido el producto de la orden {orden}. Estado actual: {estado}.\")\n"
      ],
      "metadata": {
        "id": "P9tS9axI6p1N"
      },
      "execution_count": 56,
      "outputs": []
    },
    {
      "cell_type": "markdown",
      "source": [
        "Generación de Mensajes Personalizados (Fase 4)"
      ],
      "metadata": {
        "id": "3tqTu7gs6uyW"
      }
    },
    {
      "cell_type": "code",
      "source": [
        "import random\n",
        "\n",
        "def generar_mensaje_personalizado(cliente, producto, valor, tipo_cliente):\n",
        "    \"\"\"\n",
        "    Genera un mensaje automatizado basado en el tipo de cliente y el valor del producto.\n",
        "\n",
        "    - cliente: Nombre del cliente\n",
        "    - producto: Producto comprado\n",
        "    - valor: Categoría del valor del producto ('bajo', 'medio', 'alto')\n",
        "    - tipo_cliente: Tipo de cliente ('nuevo', 'frecuente', 'vip')\n",
        "    \"\"\"\n",
        "\n",
        "    mensajes = {\n",
        "        \"bajo\": {\n",
        "            \"nuevo\": f\"Hola {cliente}, gracias por tu compra del {producto}. ¡Esperamos que lo disfrutes! 😊\",\n",
        "            \"frecuente\": f\"Hola {cliente}, tu {producto} ya está en camino. ¡Gracias por confiar en nosotros nuevamente! 🚀\",\n",
        "            \"vip\": f\"{cliente}, tu {producto} ya fue despachado. Como siempre, cuentas con nuestra mejor atención. ⭐\"\n",
        "        },\n",
        "        \"medio\": {\n",
        "            \"nuevo\": f\"Hola {cliente}, tu pedido de {producto} ha sido confirmado. ¡Te enviaremos novedades pronto! 📦\",\n",
        "            \"frecuente\": f\"{cliente}, tu {producto} está en camino. ¡Gracias por seguir eligiéndonos! 🛍️\",\n",
        "            \"vip\": f\"{cliente}, hemos priorizado tu envío de {producto}. ¡Gracias por ser un cliente especial! ✨\"\n",
        "        },\n",
        "        \"alto\": {\n",
        "            \"nuevo\": f\"Estimado {cliente}, tu pedido de {producto} ha sido procesado con prioridad. Pronto recibirás novedades. 📲\",\n",
        "            \"frecuente\": f\"Hola {cliente}, tu {producto} está en camino. Sabemos lo importante que es para ti. 📦\",\n",
        "            \"vip\": f\"{cliente}, tu {producto} ha sido enviado con el más alto estándar de seguridad. Gracias por confiar en nosotros. 🏆\"\n",
        "        }\n",
        "    }\n",
        "\n",
        "    return mensajes[valor][tipo_cliente]\n",
        "\n",
        "# **Prueba del sistema**\n",
        "if __name__ == \"__main__\":\n",
        "    clientes = [\"María\", \"José\", \"Laura\", \"Carlos\"]\n",
        "    productos = [\"Celular X\", \"Notebook Pro\", \"Auriculares Inalámbricos\"]\n",
        "    valores = [\"bajo\", \"medio\", \"alto\"]\n",
        "    tipos_clientes = [\"nuevo\", \"frecuente\", \"vip\"]\n",
        "\n",
        "    # Prueba con datos aleatorios\n",
        "    for _ in range(5):\n",
        "        cliente = random.choice(clientes)\n",
        "        producto = random.choice(productos)\n",
        "        valor = random.choice(valores)\n",
        "        tipo_cliente = random.choice(tipos_clientes)\n",
        "\n",
        "        mensaje = generar_mensaje_personalizado(cliente, producto, valor, tipo_cliente)\n",
        "        print(mensaje)\n"
      ],
      "metadata": {
        "colab": {
          "base_uri": "https://localhost:8080/"
        },
        "id": "-cTbKapZ61m_",
        "outputId": "d3c1bd83-aba3-46bf-857a-a498f25aa386"
      },
      "execution_count": 57,
      "outputs": [
        {
          "output_type": "stream",
          "name": "stdout",
          "text": [
            "Hola Carlos, tu pedido de Notebook Pro ha sido confirmado. ¡Te enviaremos novedades pronto! 📦\n",
            "Hola María, tu Celular X ya está en camino. ¡Gracias por confiar en nosotros nuevamente! 🚀\n",
            "Hola Carlos, tu Celular X está en camino. Sabemos lo importante que es para ti. 📦\n",
            "Hola Carlos, tu pedido de Celular X ha sido confirmado. ¡Te enviaremos novedades pronto! 📦\n",
            "José, tu Auriculares Inalámbricos ya fue despachado. Como siempre, cuentas con nuestra mejor atención. ⭐\n"
          ]
        }
      ]
    },
    {
      "cell_type": "markdown",
      "source": [
        "Generación de Código QR para Reclamos"
      ],
      "metadata": {
        "id": "fuSwtZZN6_vB"
      }
    },
    {
      "cell_type": "code",
      "source": [
        "import qrcode\n",
        "\n",
        "def generar_qr_reclamo(numero_reclamo):\n",
        "    \"\"\"\n",
        "    Genera un código QR con el número de reclamo.\n",
        "    \"\"\"\n",
        "    url_reclamo = f\"https://miempresa.com/reclamos/{numero_reclamo}\"\n",
        "\n",
        "    qr = qrcode.make(url_reclamo)  # Generar QR\n",
        "    nombre_archivo = f\"qr_reclamo_{numero_reclamo}.png\"\n",
        "\n",
        "    qr.save(nombre_archivo)  # Guardar imagen\n",
        "\n",
        "    return nombre_archivo  # Retorna el nombre del archivo QR generado\n",
        "\n",
        "# Prueba del sistema:\n",
        "if __name__ == \"__main__\":\n",
        "    qr_generado = generar_qr_reclamo(56789)\n",
        "    print(f\"📎 Código QR generado: {qr_generado}\")\n"
      ],
      "metadata": {
        "colab": {
          "base_uri": "https://localhost:8080/"
        },
        "id": "b6NyOlFF7Dn5",
        "outputId": "949bb27a-5ac7-472d-99ea-acf5fb87b077"
      },
      "execution_count": 58,
      "outputs": [
        {
          "output_type": "stream",
          "name": "stdout",
          "text": [
            "📎 Código QR generado: qr_reclamo_56789.png\n"
          ]
        }
      ]
    },
    {
      "cell_type": "code",
      "source": [
        "!pip install qrcode[pil] matplotlib numpy"
      ],
      "metadata": {
        "colab": {
          "base_uri": "https://localhost:8080/"
        },
        "id": "OvEyMN-b7U40",
        "outputId": "3d3fbe6a-db41-42cb-c922-01209f145d28"
      },
      "execution_count": 59,
      "outputs": [
        {
          "output_type": "stream",
          "name": "stdout",
          "text": [
            "Requirement already satisfied: matplotlib in /usr/local/lib/python3.11/dist-packages (3.10.0)\n",
            "Requirement already satisfied: numpy in /usr/local/lib/python3.11/dist-packages (1.26.4)\n",
            "Requirement already satisfied: qrcode[pil] in /usr/local/lib/python3.11/dist-packages (8.0)\n",
            "Requirement already satisfied: pillow>=9.1.0 in /usr/local/lib/python3.11/dist-packages (from qrcode[pil]) (11.1.0)\n",
            "Requirement already satisfied: contourpy>=1.0.1 in /usr/local/lib/python3.11/dist-packages (from matplotlib) (1.3.1)\n",
            "Requirement already satisfied: cycler>=0.10 in /usr/local/lib/python3.11/dist-packages (from matplotlib) (0.12.1)\n",
            "Requirement already satisfied: fonttools>=4.22.0 in /usr/local/lib/python3.11/dist-packages (from matplotlib) (4.56.0)\n",
            "Requirement already satisfied: kiwisolver>=1.3.1 in /usr/local/lib/python3.11/dist-packages (from matplotlib) (1.4.8)\n",
            "Requirement already satisfied: packaging>=20.0 in /usr/local/lib/python3.11/dist-packages (from matplotlib) (24.2)\n",
            "Requirement already satisfied: pyparsing>=2.3.1 in /usr/local/lib/python3.11/dist-packages (from matplotlib) (3.2.1)\n",
            "Requirement already satisfied: python-dateutil>=2.7 in /usr/local/lib/python3.11/dist-packages (from matplotlib) (2.8.2)\n",
            "Requirement already satisfied: six>=1.5 in /usr/local/lib/python3.11/dist-packages (from python-dateutil>=2.7->matplotlib) (1.17.0)\n"
          ]
        }
      ]
    },
    {
      "cell_type": "markdown",
      "source": [
        "Probar Código de Generación de QR"
      ],
      "metadata": {
        "id": "VqA2okOd7aCc"
      }
    },
    {
      "cell_type": "code",
      "source": [
        "import qrcode\n",
        "import matplotlib.pyplot as plt\n",
        "\n",
        "def generar_codigo_qr(info_devolucion, nombre_archivo=\"codigo_qr.png\"):\n",
        "    \"\"\"\n",
        "    Genera un código QR con los datos de devolución, lo guarda como imagen\n",
        "    y lo muestra en pantalla.\n",
        "    \"\"\"\n",
        "    # Crear código QR\n",
        "    qr = qrcode.make(info_devolucion)\n",
        "    qr.save(nombre_archivo)  # Guardar QR como imagen\n",
        "\n",
        "    # Mostrar el código QR generado\n",
        "    plt.imshow(qr, cmap=\"gray\")\n",
        "    plt.axis(\"off\")  # Ocultar ejes\n",
        "    plt.show()\n",
        "\n",
        "    print(f\"✅ Código QR generado y guardado como: {nombre_archivo}\")\n",
        "\n",
        "# Prueba de generación de código QR\n",
        "generar_codigo_qr(\"Orden: 12345 - Punto de devolución: Sucursal A\")\n"
      ],
      "metadata": {
        "colab": {
          "base_uri": "https://localhost:8080/",
          "height": 424
        },
        "id": "KD0piMhr7fMl",
        "outputId": "79125c30-7e75-4ab5-cae2-93229e6875de"
      },
      "execution_count": 60,
      "outputs": [
        {
          "output_type": "display_data",
          "data": {
            "text/plain": [
              "<Figure size 640x480 with 1 Axes>"
            ],
            "image/png": "[encoded data removed]"
          },
          "metadata": {}
        },
        {
          "output_type": "stream",
          "name": "stdout",
          "text": [
            "✅ Código QR generado y guardado como: codigo_qr.png\n"
          ]
        }
      ]
    },
    {
      "cell_type": "markdown",
      "source": [
        "Verificar Código de Mensajes Personalizados"
      ],
      "metadata": {
        "id": "76sgG-Tb7kEG"
      }
    },
    {
      "cell_type": "code",
      "source": [],
      "metadata": {
        "id": "x44Oisiu7qL3"
      },
      "execution_count": null,
      "outputs": []
    },
    {
      "cell_type": "code",
      "source": [
        "import random\n",
        "\n",
        "def generar_mensaje_personalizado(cliente, producto, valor, tipo_cliente):\n",
        "    \"\"\"\n",
        "    Genera un mensaje automatizado basado en el tipo de cliente y el valor del producto.\n",
        "\n",
        "    - cliente: Nombre del cliente\n",
        "    - producto: Producto comprado\n",
        "    - valor: Categoría del valor del producto ('bajo', 'medio', 'alto')\n",
        "    - tipo_cliente: Tipo de cliente ('nuevo', 'frecuente', 'vip')\n",
        "    \"\"\"\n",
        "\n",
        "    mensajes = {\n",
        "        \"bajo\": {\n",
        "            \"nuevo\": f\"Hola {cliente}, gracias por tu compra del {producto}. ¡Esperamos que lo disfrutes! 😊\",\n",
        "            \"frecuente\": f\"Hola {cliente}, tu {producto} ya está en camino. ¡Gracias por confiar en nosotros nuevamente! 🚀\",\n",
        "            \"vip\": f\"{cliente}, tu {producto} ya fue despachado. Como siempre, cuentas con nuestra mejor atención. ⭐\"\n",
        "        },\n",
        "        \"medio\": {\n",
        "            \"nuevo\": f\"Hola {cliente}, tu pedido de {producto} ha sido confirmado. ¡Te enviaremos novedades pronto! 📦\",\n",
        "            \"frecuente\": f\"{cliente}, tu {producto} está en camino. ¡Gracias por seguir eligiéndonos! 🛍️\",\n",
        "            \"vip\": f\"{cliente}, hemos priorizado tu envío de {producto}. ¡Gracias por ser un cliente especial! ✨\"\n",
        "        },\n",
        "        \"alto\": {\n",
        "            \"nuevo\": f\"Estimado {cliente}, tu pedido de {producto} ha sido procesado con prioridad. Pronto recibirás novedades. 📲\",\n",
        "            \"frecuente\": f\"Hola {cliente}, tu {producto} está en camino. Sabemos lo importante que es para ti. 📦\",\n",
        "            \"vip\": f\"{cliente}, tu {producto} ha sido enviado con el más alto estándar de seguridad. Gracias por confiar en nosotros. 🏆\"\n",
        "        }\n",
        "    }\n",
        "\n",
        "    return mensajes[valor][tipo_cliente]\n",
        "\n",
        "# **Prueba del sistema**\n",
        "clientes = [\"María\", \"José\", \"Laura\", \"Carlos\"]\n",
        "productos = [\"Celular X\", \"Notebook Pro\", \"Auriculares Inalámbricos\"]\n",
        "valores = [\"bajo\", \"medio\", \"alto\"]\n",
        "tipos_clientes = [\"nuevo\", \"frecuente\", \"vip\"]\n",
        "\n",
        "# Prueba con datos aleatorios\n",
        "for _ in range(5):\n",
        "    cliente = random.choice(clientes)\n",
        "    producto = random.choice(productos)\n",
        "    valor = random.choice(valores)\n",
        "    tipo_cliente = random.choice(tipos_clientes)\n",
        "\n",
        "    mensaje = generar_mensaje_personalizado(cliente, producto, valor, tipo_cliente)\n",
        "    print(mensaje)\n"
      ],
      "metadata": {
        "colab": {
          "base_uri": "https://localhost:8080/"
        },
        "id": "RPsqEb9W4J-1",
        "outputId": "00ca2e12-6927-42d6-8d32-9f66526c6f77"
      },
      "execution_count": 61,
      "outputs": [
        {
          "output_type": "stream",
          "name": "stdout",
          "text": [
            "Hola María, gracias por tu compra del Auriculares Inalámbricos. ¡Esperamos que lo disfrutes! 😊\n",
            "María, tu Celular X está en camino. ¡Gracias por seguir eligiéndonos! 🛍️\n",
            "Hola Laura, tu Notebook Pro ya está en camino. ¡Gracias por confiar en nosotros nuevamente! 🚀\n",
            "Hola Laura, tu Celular X ya está en camino. ¡Gracias por confiar en nosotros nuevamente! 🚀\n",
            "Hola Laura, gracias por tu compra del Notebook Pro. ¡Esperamos que lo disfrutes! 😊\n"
          ]
        }
      ]
    },
    {
      "cell_type": "markdown",
      "source": [
        "Verificar Integración Completa\n"
      ],
      "metadata": {
        "id": "QVa-0MoI7xhJ"
      }
    },
    {
      "cell_type": "code",
      "source": [],
      "metadata": {
        "id": "eP9IDKiM72DX"
      },
      "execution_count": null,
      "outputs": []
    },
    {
      "cell_type": "code",
      "source": [
        "import qrcode\n",
        "import matplotlib.pyplot as plt\n",
        "import random\n",
        "\n",
        "def generar_codigo_qr(info_devolucion, nombre_archivo=\"codigo_qr.png\"):\n",
        "    \"\"\"\n",
        "    Genera un código QR con los datos de devolución, lo guarda como imagen\n",
        "    y lo muestra en pantalla.\n",
        "    \"\"\"\n",
        "    qr = qrcode.make(info_devolucion)\n",
        "    qr.save(nombre_archivo)  # Guardar QR como imagen\n",
        "    plt.imshow(qr, cmap=\"gray\")\n",
        "    plt.axis(\"off\")  # Ocultar ejes\n",
        "    plt.show()\n",
        "    print(f\"✅ Código QR generado y guardado como: {nombre_archivo}\")\n",
        "\n",
        "def generar_mensaje_personalizado(cliente, producto, valor, tipo_cliente):\n",
        "    \"\"\"\n",
        "    Genera un mensaje automatizado basado en el tipo de cliente y el valor del producto.\n",
        "    \"\"\"\n",
        "    mensajes = {\n",
        "        \"bajo\": {\n",
        "            \"nuevo\": f\"Hola {cliente}, gracias por tu compra del {producto}. ¡Esperamos que lo disfrutes! 😊\",\n",
        "            \"frecuente\": f\"Hola {cliente}, tu {producto} ya está en camino. ¡Gracias por confiar en nosotros nuevamente! 🚀\",\n",
        "            \"vip\": f\"{cliente}, tu {producto} ya fue despachado. Como siempre, cuentas con nuestra mejor atención. ⭐\"\n",
        "        },\n",
        "        \"medio\": {\n",
        "            \"nuevo\": f\"Hola {cliente}, tu pedido de {producto} ha sido confirmado. ¡Te enviaremos novedades pronto! 📦\",\n",
        "            \"frecuente\": f\"{cliente}, tu {producto} está en camino. ¡Gracias por seguir eligiéndonos! 🛍️\",\n",
        "            \"vip\": f\"{cliente}, hemos priorizado tu envío de {producto}. ¡Gracias por ser un cliente especial! ✨\"\n",
        "        },\n",
        "        \"alto\": {\n",
        "            \"nuevo\": f\"Estimado {cliente}, tu pedido de {producto} ha sido procesado con prioridad. Pronto recibirás novedades. 📲\",\n",
        "            \"frecuente\": f\"Hola {cliente}, tu {producto} está en camino. Sabemos lo importante que es para ti. 📦\",\n",
        "            \"vip\": f\"{cliente}, tu {producto} ha sido enviado con el más alto estándar de seguridad. Gracias por confiar en nosotros. 🏆\"\n",
        "        }\n",
        "    }\n",
        "\n",
        "    return mensajes[valor][tipo_cliente]\n",
        "\n",
        "# **Prueba de Integración**\n",
        "cliente = \"Laura\"\n",
        "producto = \"Notebook Pro\"\n",
        "valor = \"alto\"\n",
        "tipo_cliente = \"vip\"\n",
        "numero_reclamo = 56789\n",
        "\n",
        "mensaje = generar_mensaje_personalizado(cliente, producto, valor, tipo_cliente)\n",
        "print(\"📩 Mensaje generado:\")\n",
        "print(mensaje)\n",
        "\n",
        "# Generar código QR de reclamo\n",
        "qr_generado = generar_codigo_qr(f\"Reclamo N° {numero_reclamo} - {producto}\")\n"
      ],
      "metadata": {
        "colab": {
          "base_uri": "https://localhost:8080/",
          "height": 460
        },
        "id": "HaB4EIuV4YmH",
        "outputId": "fad86d3d-d56b-4522-85a1-3f19cd9e2a50"
      },
      "execution_count": 62,
      "outputs": [
        {
          "output_type": "stream",
          "name": "stdout",
          "text": [
            "📩 Mensaje generado:\n",
            "Laura, tu Notebook Pro ha sido enviado con el más alto estándar de seguridad. Gracias por confiar en nosotros. 🏆\n"
          ]
        },
        {
          "output_type": "display_data",
          "data": {
            "text/plain": [
              "<Figure size 640x480 with 1 Axes>"
            ],
            "image/png": "[encoded data removed]"
          },
          "metadata": {}
        },
        {
          "output_type": "stream",
          "name": "stdout",
          "text": [
            "✅ Código QR generado y guardado como: codigo_qr.png\n"
          ]
        }
      ]
    },
    {
      "cell_type": "markdown",
      "source": [
        "Generación de Mensajes Inteligentes y Contacto con Proveedor"
      ],
      "metadata": {
        "id": "PN9BCwdW8BVg"
      }
    },
    {
      "cell_type": "code",
      "source": [],
      "metadata": {
        "id": "WcYf9j-U8EVS"
      },
      "execution_count": null,
      "outputs": []
    },
    {
      "cell_type": "code",
      "source": [
        "import time\n",
        "import random\n",
        "\n",
        "def generar_mensaje_cliente(cliente, producto, valor, tipo_cliente):\n",
        "    \"\"\"\n",
        "    Genera un mensaje automatizado basado en el tipo de cliente y el valor del producto.\n",
        "    \"\"\"\n",
        "    mensajes = {\n",
        "        \"bajo\": {\n",
        "            \"nuevo\": f\"Hola {cliente}, gracias por tu compra del {producto}. ¡Esperamos que lo disfrutes! 😊\",\n",
        "            \"frecuente\": f\"Hola {cliente}, tu {producto} ya está en camino. ¡Gracias por confiar en nosotros nuevamente! 🚀\",\n",
        "            \"vip\": f\"{cliente}, tu {producto} ya fue despachado. Como siempre, cuentas con nuestra mejor atención. ⭐\"\n",
        "        },\n",
        "        \"medio\": {\n",
        "            \"nuevo\": f\"Hola {cliente}, tu pedido de {producto} ha sido confirmado. ¡Te enviaremos novedades pronto! 📦\",\n",
        "            \"frecuente\": f\"{cliente}, tu {producto} está en camino. ¡Gracias por seguir eligiéndonos! 🛍️\",\n",
        "            \"vip\": f\"{cliente}, hemos priorizado tu envío de {producto}. ¡Gracias por ser un cliente especial! ✨\"\n",
        "        },\n",
        "        \"alto\": {\n",
        "            \"nuevo\": f\"Estimado {cliente}, tu pedido de {producto} ha sido procesado con prioridad. Pronto recibirás novedades. 📲\",\n",
        "            \"frecuente\": f\"Hola {cliente}, tu {producto} está en camino. Sabemos lo importante que es para ti. 📦\",\n",
        "            \"vip\": f\"{cliente}, tu {producto} ha sido enviado con el más alto estándar de seguridad. Gracias por confiar en nosotros. 🏆\"\n",
        "        }\n",
        "    }\n",
        "\n",
        "    return mensajes[valor][tipo_cliente]\n",
        "\n",
        "\n",
        "def notificar_proveedor(orden, producto_correcto, producto_erroneo, proveedor_email):\n",
        "    \"\"\"\n",
        "    Notifica al proveedor que el producto incorrecto ha sido detectado antes del despacho.\n",
        "    Se le solicita el reemplazo inmediato sin costo para el cliente.\n",
        "    \"\"\"\n",
        "    mensaje_proveedor = f\"\"\"\n",
        "    📦 **Notificación de Error en Orden N° {orden}**\n",
        "\n",
        "    Producto esperado: {producto_correcto}\n",
        "    Producto recibido: {producto_erroneo}\n",
        "\n",
        "    🚨 El producto incorrecto ha sido detectado antes del despacho.\n",
        "    Solicitamos el reemplazo inmediato del producto correcto sin costos adicionales para el cliente.\n",
        "\n",
        "    Plazo de respuesta: 48 horas.\n",
        "\n",
        "    Favor confirmar recepción de este mensaje y la gestión del reemplazo.\n",
        "    \"\"\"\n",
        "\n",
        "    print(f\"📨 Enviando mensaje al proveedor ({proveedor_email})...\")\n",
        "    time.sleep(2)  # Simulación de envío\n",
        "    print(\"✅ Notificación enviada con éxito.\\n\")\n",
        "\n",
        "    return mensaje_proveedor\n",
        "\n",
        "\n",
        "def confirmar_reemplazo(orden, proveedor_responde=True):\n",
        "    \"\"\"\n",
        "    Verifica si el proveedor ha respondido en el plazo establecido.\n",
        "    Si responde, se confirma el reemplazo. Si no, se escala el caso al soporte.\n",
        "    \"\"\"\n",
        "    if proveedor_responde:\n",
        "        print(f\"✅ El proveedor ha confirmado el reemplazo del producto para la orden {orden}.\")\n",
        "        return \"Reemplazo confirmado\"\n",
        "    else:\n",
        "        print(f\"⚠️ El proveedor no ha respondido en el plazo establecido para la orden {orden}.\")\n",
        "        print(\"🔔 Escalando el reclamo al soporte de la empresa.\")\n",
        "        return \"Escalado a soporte\"\n",
        "\n",
        "\n",
        "# 🔥 **Prueba de la Fase 4**\n",
        "cliente = \"Laura\"\n",
        "producto_correcto = \"Notebook Pro\"\n",
        "producto_erroneo = \"Notebook Básica\"\n",
        "orden = \"12345\"\n",
        "tipo_cliente = \"vip\"\n",
        "valor = \"alto\"\n",
        "proveedor_email = \"proveedor@empresa.com\"\n",
        "\n",
        "# Generar mensaje para el cliente\n",
        "mensaje_cliente = generar_mensaje_cliente(cliente, producto_correcto, valor, tipo_cliente)\n",
        "print(\"📩 Mensaje generado para el cliente:\")\n",
        "print(mensaje_cliente)\n",
        "\n",
        "# Notificar al proveedor\n",
        "mensaje_proveedor = notificar_proveedor(orden, producto_correcto, producto_erroneo, proveedor_email)\n",
        "print(\"📨 Mensaje enviado al proveedor:\")\n",
        "print(mensaje_proveedor)\n",
        "\n",
        "# Confirmar reemplazo del proveedor (Simulación con respuesta aleatoria)\n",
        "respuesta_proveedor = random.choice([True, False])  # Simula que el proveedor responde o no\n",
        "resultado = confirmar_reemplazo(orden, proveedor_responde=respuesta_proveedor)\n",
        "print(\"📢 Estado final del reclamo:\", resultado)\n"
      ],
      "metadata": {
        "colab": {
          "base_uri": "https://localhost:8080/"
        },
        "id": "VWFTRf2jIdj_",
        "outputId": "09004d5c-c1d4-4d73-8de3-e218d6766c3e"
      },
      "execution_count": 63,
      "outputs": [
        {
          "output_type": "stream",
          "name": "stdout",
          "text": [
            "📩 Mensaje generado para el cliente:\n",
            "Laura, tu Notebook Pro ha sido enviado con el más alto estándar de seguridad. Gracias por confiar en nosotros. 🏆\n",
            "📨 Enviando mensaje al proveedor (proveedor@empresa.com)...\n",
            "✅ Notificación enviada con éxito.\n",
            "\n",
            "📨 Mensaje enviado al proveedor:\n",
            "\n",
            "    📦 **Notificación de Error en Orden N° 12345**\n",
            "\n",
            "    Producto esperado: Notebook Pro\n",
            "    Producto recibido: Notebook Básica\n",
            "\n",
            "    🚨 El producto incorrecto ha sido detectado antes del despacho.\n",
            "    Solicitamos el reemplazo inmediato del producto correcto sin costos adicionales para el cliente.\n",
            "\n",
            "    Plazo de respuesta: 48 horas.\n",
            "\n",
            "    Favor confirmar recepción de este mensaje y la gestión del reemplazo.\n",
            "    \n",
            "⚠️ El proveedor no ha respondido en el plazo establecido para la orden 12345.\n",
            "🔔 Escalando el reclamo al soporte de la empresa.\n",
            "📢 Estado final del reclamo: Escalado a soporte\n"
          ]
        }
      ]
    }
  ]
}