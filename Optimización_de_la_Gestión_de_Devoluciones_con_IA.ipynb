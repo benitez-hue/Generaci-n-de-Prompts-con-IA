{
  "nbformat": 4,
  "nbformat_minor": 0,
  "metadata": {
    "colab": {
      "provenance": []
    },
    "kernelspec": {
      "name": "python3",
      "display_name": "Python 3"
    },
    "language_info": {
      "name": "python"
    }
  },
  "cells": [
    {
      "cell_type": "markdown",
      "source": [],
      "metadata": {
        "id": "sQ2Lr421fc9d"
      }
    },
    {
      "cell_type": "markdown",
      "source": [
        "# 📦 Optimización de la Gestión de Devoluciones con IA\n",
        "## 🚀 Implementación de Fast Prompting en la Gestión de Devoluciones\n",
        "\n",
        "## 📌 Problema y Solución Propuesta (Resumen de la Primera Entrega)\n",
        "\n",
        "### 📦 Problema: Gestión Ineficiente de Devoluciones en Empresas de Intermediación de Compras Internacionales  \n",
        "\n",
        "Las empresas que actúan como intermediarias en compras internacionales enfrentan problemas recurrentes en la entrega de productos, generando costos adicionales y frustración en los clientes. Entre los principales inconvenientes se encuentran:  \n",
        "\n",
        "1. **Errores en la entrega:** Productos incorrectos enviados a los clientes finales.  \n",
        "2. **Procesos de devolución complejos:** Muchos clientes deben asumir costos de envío para devolver productos erróneos.  \n",
        "3. **Falta de validación automática de los paquetes antes de su despacho.**  \n",
        "4. **Mala comunicación entre la empresa intermediaria y la tienda vendedora.**  \n",
        "5. **Requerimiento de devoluciones presenciales**, lo que no es práctico para clientes que recibieron su pedido puerta a puerta.  \n",
        "\n",
        "---\n",
        "\n",
        "### 🚀 Solución Propuesta: Optimización con IA y Fast Prompting  \n",
        "\n",
        "💡 **Implementación de un sistema basado en IA para optimizar la gestión de devoluciones.**  \n",
        "\n",
        "### 🔍 Fase 1: Verificación Automática del Pedido con IA  \n",
        "✅ **Uso de Computer Vision** para analizar imágenes del paquete y compararlas con la orden de compra.  \n",
        "✅ **Escaneo de códigos de barras y etiquetas RFID** para cotejar con el pedido.  \n",
        "✅ **Alerta automática si hay discrepancias** antes de despachar al cliente final.  \n",
        "\n",
        "### 📦 Fase 2: Opciones de Devolución Simplificadas  \n",
        "✅ **Código QR para devoluciones sin embalaje ni etiqueta impresa.**  \n",
        "✅ **Puntos de devolución en ubicaciones estratégicas o recogida a domicilio.**  \n",
        "✅ **Posibilidad de usar transportistas externos con rastreo del paquete.**  \n",
        "\n",
        "### 📜 Fase 3: Seguimiento y Reembolsos Automatizados  \n",
        "✅ **Si el cliente ya recibió un reembolso anticipado, se rastrea la devolución.**  \n",
        "✅ **Si el producto no es devuelto, se aplica un cobro automático.**  \n",
        "✅ **El reembolso se procesa en un máximo de 3 días hábiles tras la recepción del producto.**  \n"
      ],
      "metadata": {
        "id": "aVlbzaiIfgCu"
      }
    },
    {
      "cell_type": "code",
      "source": [
        "# Cargar bibliotecas necesarias\n",
        "import cv2\n",
        "import numpy as np\n",
        "from tensorflow.keras.models import load_model\n"
      ],
      "metadata": {
        "id": "GfGMqrCVfkZH"
      },
      "execution_count": null,
      "outputs": []
    },
    {
      "cell_type": "code",
      "source": [
        "#⃣ Fase 1: Verificación del Pedido con IA (Visión por Computadora)\n",
        "# Cargar modelo de reconocimiento de productos (simulación)\n",
        "# En un caso real, se entrenaría un modelo para clasificar los productos recibidos\n",
        "try:\n",
        "    model = load_model('modelo_reconocimiento_productos.h5')\n",
        "except:\n",
        "    print(\"⚠️ Advertencia: Modelo de reconocimiento no disponible.\")\n",
        "\n",
        "def verificar_producto(imagen):\n",
        "    \"\"\"Función para analizar la imagen del producto recibido y compararla con la orden esperada.\"\"\"\n",
        "    img = cv2.imread(imagen)\n",
        "    img = cv2.resize(img, (224, 224))  # Redimensionar para el modelo\n",
        "    img = np.expand_dims(img, axis=0)  # Agregar batch dimension\n",
        "\n",
        "    try:\n",
        "        prediccion = model.predict(img)\n",
        "        return prediccion  # Simulación de retorno de clase de producto\n",
        "    except:\n",
        "        return \"⚠️ No se pudo procesar la imagen. Verifique el modelo y la imagen.\"\n",
        "\n",
        "# Ejemplo de uso:\n",
        "# verificar_producto(\"producto_recibido.jpg\")\n"
      ],
      "metadata": {
        "colab": {
          "base_uri": "https://localhost:8080/"
        },
        "id": "SDzX8prwf-OC",
        "outputId": "a411a3da-2b95-4370-923d-beb3fc2ab73e"
      },
      "execution_count": null,
      "outputs": [
        {
          "output_type": "stream",
          "name": "stdout",
          "text": [
            "⚠️ Advertencia: Modelo de reconocimiento no disponible.\n"
          ]
        }
      ]
    },
    {
      "cell_type": "markdown",
      "source": [],
      "metadata": {
        "id": "Dpz6pjLJkMHV"
      }
    },
    {
      "cell_type": "markdown",
      "source": [],
      "metadata": {
        "id": "tiLFqoxrkmEQ"
      }
    },
    {
      "cell_type": "markdown",
      "source": [
        "Fase 3: Generación de Código QR para Devolución Explicación de la Fase 3 (Código QR)\n",
        "🔹 Propósito: Facilitar la devolución sin etiquetas ni embalaje, proporcionando un código QR que contiene la información clave del proceso de devolución.\n",
        "\n",
        "🔹 Cómo funciona:\n",
        "\n",
        "Recibe información de la devolución (ejemplo: \"Orden: 12345 - Punto de devolución: Sucursal A\").\n",
        "Genera un código QR con la información codificada.\n",
        "Guarda el código QR como imagen (codigo_qr.png) para que pueda ser escaneado en los puntos de devolución.\n",
        " Beneficios de la Optimización\n",
        "✅ Visualización inmediata del código QR sin necesidad de abrir el archivo manualmente.\n",
        "✅ El nombre del archivo es personalizable, permitiendo generar diferentes códigos sin sobreescribir."
      ],
      "metadata": {
        "id": "6OzfhJd-lyML"
      }
    },
    {
      "cell_type": "code",
      "source": [
        "# Instalación del paquete qrcode si no está disponible\n",
        "try:\n",
        "    import qrcode\n",
        "    import matplotlib.pyplot as plt\n",
        "except ModuleNotFoundError:\n",
        "    !pip install qrcode[pil] matplotlib\n",
        "    import qrcode\n",
        "    import matplotlib.pyplot as plt\n",
        "\n",
        "def generar_codigo_qr(info_devolucion, nombre_archivo=\"codigo_qr.png\"):\n",
        "    \"\"\"\n",
        "    Genera un código QR con los datos de devolución, lo guarda como imagen\n",
        "    y lo muestra en pantalla.\n",
        "    \"\"\"\n",
        "\n",
        "    # Crear código QR\n",
        "    qr = qrcode.make(info_devolucion)\n",
        "    qr.save(nombre_archivo)  # Guardar QR como imagen\n",
        "\n",
        "    # Mostrar el código QR generado\n",
        "    plt.imshow(qr, cmap=\"gray\")\n",
        "    plt.axis(\"off\")  # Ocultar ejes\n",
        "    plt.show()\n",
        "\n",
        "    print(f\"✅ Código QR generado y guardado como: {nombre_archivo}\")\n",
        "\n",
        "# Ejemplo de uso:\n",
        "# generar_codigo_qr(\"Orden: 12345 - Punto de devolución: Sucursal A\")\n"
      ],
      "metadata": {
        "id": "ruSywU3nmHqn"
      },
      "execution_count": null,
      "outputs": []
    },
    {
      "cell_type": "code",
      "source": [
        "# Importar librerías necesarias\n",
        "import qrcode\n",
        "import matplotlib.pyplot as plt\n",
        "\n",
        "def generar_codigo_qr(info_devolucion, nombre_archivo=\"codigo_qr.png\"):\n",
        "    \"\"\"\n",
        "    Genera un código QR con los datos de devolución, lo guarda como imagen\n",
        "    y lo muestra en pantalla.\n",
        "    \"\"\"\n",
        "\n",
        "    # Crear código QR\n",
        "    qr = qrcode.make(info_devolucion)\n",
        "    qr.save(nombre_archivo)  # Guardar QR como imagen\n",
        "\n",
        "    # Mostrar el código QR generado\n",
        "    plt.imshow(qr, cmap=\"gray\")\n",
        "    plt.axis(\"off\")  # Ocultar ejes\n",
        "    plt.show()\n",
        "\n",
        "    print(f\"✅ Código QR generado y guardado como: {nombre_archivo}\")\n",
        "\n",
        "# Ejemplo de uso:\n",
        "generar_codigo_qr(\"Orden: 12345 - Punto de devolución: Sucursal A\")\n"
      ],
      "metadata": {
        "colab": {
          "base_uri": "https://localhost:8080/",
          "height": 424
        },
        "id": "P8_qj0BEmx2E",
        "outputId": "b6060818-135d-460c-be93-5554e62e7b52"
      },
      "execution_count": null,
      "outputs": [
        {
          "output_type": "display_data",
          "data": {
            "text/plain": [
              "<Figure size 640x480 with 1 Axes>"
            ],
            "image/png": "[encoded data removed]"
          },
          "metadata": {}
        },
        {
          "output_type": "stream",
          "name": "stdout",
          "text": [
            "✅ Código QR generado y guardado como: codigo_qr.png\n"
          ]
        }
      ]
    },
    {
      "cell_type": "markdown",
      "source": [
        " Fase 3: Seguimiento de Reembolsos y Optimización Logística\n",
        "Esta fase se encarga de verificar, gestionar y automatizar el proceso de reembolsos para que el sistema controle si el cliente realmente devolvió el producto antes de procesar el reembolso.\n",
        " ¿Para qué sirve esta fase?\n",
        "Cuando un cliente devuelve un producto, el reembolso no debería procesarse hasta que el producto sea recibido y validado. Esta fase automatiza ese proceso para evitar fraudes, errores o retrasos en los reembolsos.\n",
        "\n",
        "💡 Ejemplo de problema sin esta fase:\n",
        "📦 Un cliente devuelve un producto, pero el reembolso se procesa sin verificar si el producto realmente llegó al centro de devoluciones.\n",
        "➡ Consecuencia: La empresa pierde dinero si el producto nunca se devuelve.\n",
        "\n",
        "💡 Solución con IA:\n",
        "📌 Un sistema automatizado rastrea el paquete devuelto y, cuando se recibe en el almacén, activa automáticamente el reembolso. Beneficios de esta Optimización\n",
        "✅ Evita fraudes asegurando que solo se reembolsen pedidos realmente devueltos.\n",
        "✅ Mejora la comunicación con el cliente enviando notificaciones automatizadas.\n",
        "✅ Reduce la carga operativa del equipo de atención al cliente.\n",
        "✅ Optimiza la logística al integrar una API de seguimiento de paquetes.\n",
        "\n",
        "\n"
      ],
      "metadata": {
        "id": "nJPLTTXXpah-"
      }
    },
    {
      "cell_type": "code",
      "source": [
        "import time\n",
        "import requests\n",
        "import smtplib\n",
        "from email.mime.text import MIMEText\n",
        "\n",
        "# Configuración del servidor de correo (Ejemplo con Gmail, se puede cambiar)\n",
        "SMTP_SERVER = \"smtp.gmail.com\"\n",
        "SMTP_PORT = 587\n",
        "EMAIL_USER = \"tu_email@gmail.com\"  # Cambia por tu email\n",
        "EMAIL_PASSWORD = \"tu_contraseña\"   # Usa una contraseña de aplicación segura\n",
        "\n",
        "def enviar_correo(destinatario, asunto, mensaje):\n",
        "    \"\"\"\n",
        "    Envía un correo electrónico notificando el estado del reembolso.\n",
        "    \"\"\"\n",
        "    try:\n",
        "        msg = MIMEText(mensaje)\n",
        "        msg[\"Subject\"] = asunto\n",
        "        msg[\"From\"] = EMAIL_USER\n",
        "        msg[\"To\"] = destinatario\n",
        "\n",
        "        server = smtplib.SMTP(SMTP_SERVER, SMTP_PORT)\n",
        "        server.starttls()\n",
        "        server.login(EMAIL_USER, EMAIL_PASSWORD)\n",
        "        server.sendmail(EMAIL_USER, destinatario, msg.as_string())\n",
        "        server.quit()\n",
        "\n",
        "        print(f\"📩 Notificación enviada a {destinatario}\")\n",
        "\n",
        "    except Exception as e:\n",
        "        print(f\"❌ Error enviando el email: {e}\")\n",
        "\n",
        "def verificar_estado_envio(tracking_number):\n",
        "    \"\"\"\n",
        "    Simula una consulta a una API de seguimiento de paquetes.\n",
        "    (En un caso real, se usaría una API de FedEx, DHL, UPS, etc.)\n",
        "    \"\"\"\n",
        "    url = f\"https://api.ejemplo-seguimiento.com/status/{tracking_number}\"  # Simulación\n",
        "    try:\n",
        "        response = requests.get(url)\n",
        "        data = response.json()\n",
        "        return data[\"status\"]  # Ejemplo: \"Entregado\", \"En tránsito\", \"Pendiente de envío\"\n",
        "    except:\n",
        "        return \"Error en la consulta\"\n",
        "\n",
        "def seguimiento_reembolso(orden, tracking_number, email_cliente):\n",
        "    \"\"\"\n",
        "    Verifica el estado de la devolución usando un tracking number.\n",
        "    Si el producto fue recibido, aprueba automáticamente el reembolso y envía una notificación al cliente.\n",
        "    \"\"\"\n",
        "    print(f\"📌 Consultando estado de la devolución para la orden {orden}...\")\n",
        "\n",
        "    estado = verificar_estado_envio(tracking_number)\n",
        "    time.sleep(2)  # Simulación de tiempo de consulta\n",
        "\n",
        "    if estado.lower() == \"entregado\":\n",
        "        print(f\"✅ Producto recibido. Reembolso procesado para la orden {orden}. Será acreditado en 3 días hábiles.\")\n",
        "        enviar_correo(\n",
        "            email_cliente,\n",
        "            \"📢 Confirmación de Reembolso\",\n",
        "            f\"Estimado cliente,\\n\\nHemos recibido su devolución para la orden {orden}. Su reembolso será acreditado en 3 días hábiles.\\n\\nGracias por su paciencia.\\n\\nAtentamente,\\nEquipo de Atención al Cliente\"\n",
        "        )\n",
        "    else:\n",
        "        print(f\"⚠️ Aún no hemos recibido el producto de la orden {orden}. Estado actual: {estado}.\")\n",
        "        enviar_correo(\n",
        "            email_cliente,\n",
        "            \"🚨 Devolución Pendiente\",\n",
        "            f\"Estimado cliente,\\n\\nNo hemos recibido su devolución para la orden {orden}. Estado actual: {estado}.\\n\\nPor favor, complete la devolución lo antes posible para procesar su reembolso.\\n\\nAtentamente,\\nEquipo de Atención al Cliente\"\n",
        "        )\n",
        "\n",
        "# Ejemplo de uso:\n",
        "# seguimiento_reembolso(\"12345\", \"XYZ987654\", \"cliente@example.com\")\n"
      ],
      "metadata": {
        "id": "ZwamTU6Tp9NU"
      },
      "execution_count": null,
      "outputs": []
    },
    {
      "cell_type": "code",
      "source": [
        "!mv src/src/src/src/*.py src/  # Mueve todos los archivos .py a src/\n",
        "!rm -rf src/src/src/           # Borra las carpetas innecesarias\n"
      ],
      "metadata": {
        "colab": {
          "base_uri": "https://localhost:8080/"
        },
        "id": "vaYdCky6Td1A",
        "outputId": "6a213a85-a472-4c05-ff5a-22b4a9884999"
      },
      "execution_count": null,
      "outputs": [
        {
          "output_type": "stream",
          "name": "stdout",
          "text": [
            "mv: cannot stat 'src/src/src/src/*.py': No such file or directory\n"
          ]
        }
      ]
    },
    {
      "cell_type": "code",
      "source": [
        "!ls -R\n"
      ],
      "metadata": {
        "colab": {
          "base_uri": "https://localhost:8080/"
        },
        "id": "HPJyqD10WjFK",
        "outputId": "5e690c83-bc3b-431b-df8d-827f1537d7fa"
      },
      "execution_count": null,
      "outputs": [
        {
          "output_type": "stream",
          "name": "stdout",
          "text": [
            ".:\n",
            "codigo_qr.png\t\t\t\t\t\t README.md\t   src\n",
            "Optimización_de_la_Gestión_de_Devoluciones_con_IA.ipynb  requirements.txt\n",
            "\n",
            "./src:\n",
            "chatbot_reclamos.py  __pycache__\t\tverificacion_producto.py\n",
            "generar_qr.py\t     seguimiento_reembolsos.py\n",
            "\n",
            "./src/__pycache__:\n",
            "chatbot_reclamos.cpython-311.pyc  seguimiento_reembolsos.cpython-311.pyc\n",
            "generar_qr.cpython-311.pyc\t  verificacion_producto.cpython-311.pyc\n"
          ]
        }
      ]
    },
    {
      "cell_type": "code",
      "source": [
        "import sys\n",
        "sys.path.append(\"src\")  # Agrega la carpeta src al path de Python\n"
      ],
      "metadata": {
        "id": "us3_jIvXim4k"
      },
      "execution_count": null,
      "outputs": []
    },
    {
      "cell_type": "code",
      "source": [
        "from verificacion_producto import verificar_producto\n",
        "from chatbot_reclamos import generar_reclamo\n",
        "from generar_qr import generar_codigo_qr\n",
        "from seguimiento_reembolsos import seguimiento_reembolso\n"
      ],
      "metadata": {
        "id": "JBEwIP54ir0N"
      },
      "execution_count": null,
      "outputs": []
    },
    {
      "cell_type": "code",
      "source": [
        "import os\n",
        "os.chdir(\"/content/Generaci-n-de-Prompts-con-IA\")  # Cambia a la carpeta raíz del proyecto\n"
      ],
      "metadata": {
        "id": "AG5jDdOri9tV"
      },
      "execution_count": null,
      "outputs": []
    },
    {
      "cell_type": "code",
      "source": [
        "import os\n",
        "print(os.getcwd())  # Muestra la ubicación actual\n"
      ],
      "metadata": {
        "colab": {
          "base_uri": "https://localhost:8080/"
        },
        "id": "xTjl2bt9jJwe",
        "outputId": "06ce6316-79da-42e0-98c6-a01d0f112b6e"
      },
      "execution_count": null,
      "outputs": [
        {
          "output_type": "stream",
          "name": "stdout",
          "text": [
            "/content/Generaci-n-de-Prompts-con-IA\n"
          ]
        }
      ]
    },
    {
      "cell_type": "code",
      "source": [
        "import os\n",
        "print(os.listdir())  # Lista los archivos en la ubicación actual\n"
      ],
      "metadata": {
        "colab": {
          "base_uri": "https://localhost:8080/"
        },
        "id": "tJx-HarsjUGW",
        "outputId": "54a99409-8f01-47ac-98be-fafb0ae21cfd"
      },
      "execution_count": null,
      "outputs": [
        {
          "output_type": "stream",
          "name": "stdout",
          "text": [
            "['codigo_qr.png', 'Optimización_de_la_Gestión_de_Devoluciones_con_IA.ipynb', '.git', 'requirements.txt', 'src', 'README.md']\n"
          ]
        }
      ]
    },
    {
      "cell_type": "code",
      "source": [
        "!git clone https://github.com/benitez-hue/Generaci-n-de-Prompts-con-IA.git\n"
      ],
      "metadata": {
        "colab": {
          "base_uri": "https://localhost:8080/"
        },
        "id": "fGyDcxfEjfCi",
        "outputId": "f3db9a94-5273-441f-a688-52d216c629f1"
      },
      "execution_count": null,
      "outputs": [
        {
          "output_type": "stream",
          "name": "stdout",
          "text": [
            "Cloning into 'Generaci-n-de-Prompts-con-IA'...\n",
            "remote: Enumerating objects: 70, done.\u001b[K\n",
            "remote: Counting objects: 100% (70/70), done.\u001b[K\n",
            "remote: Compressing objects: 100% (63/63), done.\u001b[K\n",
            "remote: Total 70 (delta 23), reused 0 (delta 0), pack-reused 0 (from 0)\u001b[K\n",
            "Receiving objects: 100% (70/70), 36.16 KiB | 1.45 MiB/s, done.\n",
            "Resolving deltas: 100% (23/23), done.\n"
          ]
        }
      ]
    },
    {
      "cell_type": "code",
      "source": [
        "import os\n",
        "print(os.listdir(\"/content\"))\n"
      ],
      "metadata": {
        "colab": {
          "base_uri": "https://localhost:8080/"
        },
        "id": "nC_we-tJjnOW",
        "outputId": "1fd52f8a-e96d-4430-c25f-3f054b94ce5e"
      },
      "execution_count": null,
      "outputs": [
        {
          "output_type": "stream",
          "name": "stdout",
          "text": [
            "['.config', 'Generaci-n-de-Prompts-con-IA', 'sample_data']\n"
          ]
        }
      ]
    },
    {
      "cell_type": "code",
      "source": [
        "import os\n",
        "os.chdir(\"/content/Generaci-n-de-Prompts-con-IA\")  # Cambia al directorio del proyecto\n",
        "print(\"Directorio actual:\", os.getcwd())  # Verifica que estás en la carpeta correcta\n"
      ],
      "metadata": {
        "colab": {
          "base_uri": "https://localhost:8080/"
        },
        "id": "aQ9Il0w_jx5c",
        "outputId": "bab77413-9154-4a65-e80d-b33a9da833bc"
      },
      "execution_count": null,
      "outputs": [
        {
          "output_type": "stream",
          "name": "stdout",
          "text": [
            "Directorio actual: /content/Generaci-n-de-Prompts-con-IA\n"
          ]
        }
      ]
    },
    {
      "cell_type": "code",
      "source": [
        "print(os.listdir())  # Muestra los archivos y carpetas dentro del proyecto\n"
      ],
      "metadata": {
        "colab": {
          "base_uri": "https://localhost:8080/"
        },
        "id": "EL9o5Y2DkERW",
        "outputId": "9692c065-7cff-44cf-de84-fc2f532bb935"
      },
      "execution_count": null,
      "outputs": [
        {
          "output_type": "stream",
          "name": "stdout",
          "text": [
            "['codigo_qr.png', 'Optimización_de_la_Gestión_de_Devoluciones_con_IA.ipynb', 'Generaci-n-de-Prompts-con-IA', '.git', 'requirements.txt', 'src', 'README.md']\n"
          ]
        }
      ]
    },
    {
      "cell_type": "code",
      "source": [
        "import os\n",
        "os.chdir(\"/content/Generaci-n-de-Prompts-con-IA\")  # Cambia al directorio del proyecto\n",
        "print(\"Directorio actual:\", os.getcwd())  # Verifica que estás en la carpeta correcta\n"
      ],
      "metadata": {
        "colab": {
          "base_uri": "https://localhost:8080/"
        },
        "id": "MYwgooazkVtR",
        "outputId": "1d0b343f-e927-4e97-8203-1cbb0f777d24"
      },
      "execution_count": null,
      "outputs": [
        {
          "output_type": "stream",
          "name": "stdout",
          "text": [
            "Directorio actual: /content/Generaci-n-de-Prompts-con-IA\n"
          ]
        }
      ]
    },
    {
      "cell_type": "code",
      "source": [
        "print(os.listdir(\"src\"))  # Lista los archivos dentro de src\n"
      ],
      "metadata": {
        "colab": {
          "base_uri": "https://localhost:8080/"
        },
        "id": "2JKKBbutkaMh",
        "outputId": "2ada0061-e1e8-40bd-d987-20aa53dc5af1"
      },
      "execution_count": null,
      "outputs": [
        {
          "output_type": "stream",
          "name": "stdout",
          "text": [
            "['seguimiento_reembolsos.py', '__pycache__', 'chatbot_reclamos.py', 'verificacion_producto.py', 'generar_qr.py', '.gitkeep']\n"
          ]
        }
      ]
    },
    {
      "cell_type": "code",
      "source": [
        "import sys\n",
        "sys.path.append(os.path.abspath(\"src\"))  # Agrega la carpeta src al path\n"
      ],
      "metadata": {
        "id": "QA1F4cCNkhhr"
      },
      "execution_count": null,
      "outputs": []
    },
    {
      "cell_type": "code",
      "source": [
        "from verificacion_producto import verificar_producto\n",
        "from chatbot_reclamos import generar_reclamo\n",
        "from generar_qr import generar_codigo_qr\n",
        "from seguimiento_reembolsos import seguimiento_reembolso\n",
        "\n",
        "print(\"✅ Importaciones exitosas\")\n"
      ],
      "metadata": {
        "colab": {
          "base_uri": "https://localhost:8080/"
        },
        "id": "1zjdx1Vdkmmy",
        "outputId": "393227bb-c1fa-47e9-96d5-5b38c26d2c85"
      },
      "execution_count": null,
      "outputs": [
        {
          "output_type": "stream",
          "name": "stdout",
          "text": [
            "✅ Importaciones exitosas\n"
          ]
        }
      ]
    },
    {
      "cell_type": "code",
      "source": [
        "!cat requirements.txt\n"
      ],
      "metadata": {
        "colab": {
          "base_uri": "https://localhost:8080/"
        },
        "id": "RFjmNup3lF42",
        "outputId": "0075852a-6835-41dd-ccc2-d5743d5b1197"
      },
      "execution_count": null,
      "outputs": [
        {
          "output_type": "stream",
          "name": "stdout",
          "text": [
            "openai\n",
            "tensorflow\n",
            "opencv-python\n",
            "numpy\n",
            "qrcode[pil]\n",
            "matplotlib\n",
            "requests\n"
          ]
        }
      ]
    },
    {
      "cell_type": "code",
      "source": [
        "!pip install -r requirements.txt\n"
      ],
      "metadata": {
        "colab": {
          "base_uri": "https://localhost:8080/"
        },
        "id": "_0wlwhrDlTCi",
        "outputId": "1a2b891c-cad0-44e4-c4bc-6caf0a272bb7"
      },
      "execution_count": null,
      "outputs": [
        {
          "output_type": "stream",
          "name": "stdout",
          "text": [
            "Requirement already satisfied: openai in /usr/local/lib/python3.11/dist-packages (from -r requirements.txt (line 1)) (1.63.0)\n",
            "Requirement already satisfied: tensorflow in /usr/local/lib/python3.11/dist-packages (from -r requirements.txt (line 2)) (2.18.0)\n",
            "Requirement already satisfied: opencv-python in /usr/local/lib/python3.11/dist-packages (from -r requirements.txt (line 3)) (4.11.0.86)\n",
            "Requirement already satisfied: numpy in /usr/local/lib/python3.11/dist-packages (from -r requirements.txt (line 4)) (1.26.4)\n",
            "Requirement already satisfied: matplotlib in /usr/local/lib/python3.11/dist-packages (from -r requirements.txt (line 6)) (3.10.0)\n",
            "Requirement already satisfied: requests in /usr/local/lib/python3.11/dist-packages (from -r requirements.txt (line 7)) (2.32.3)\n",
            "Requirement already satisfied: qrcode[pil] in /usr/local/lib/python3.11/dist-packages (from -r requirements.txt (line 5)) (8.0)\n",
            "Requirement already satisfied: anyio<5,>=3.5.0 in /usr/local/lib/python3.11/dist-packages (from openai->-r requirements.txt (line 1)) (3.7.1)\n",
            "Requirement already satisfied: distro<2,>=1.7.0 in /usr/local/lib/python3.11/dist-packages (from openai->-r requirements.txt (line 1)) (1.9.0)\n",
            "Requirement already satisfied: httpx<1,>=0.23.0 in /usr/local/lib/python3.11/dist-packages (from openai->-r requirements.txt (line 1)) (0.28.1)\n",
            "Requirement already satisfied: jiter<1,>=0.4.0 in /usr/local/lib/python3.11/dist-packages (from openai->-r requirements.txt (line 1)) (0.8.2)\n",
            "Requirement already satisfied: pydantic<3,>=1.9.0 in /usr/local/lib/python3.11/dist-packages (from openai->-r requirements.txt (line 1)) (2.10.6)\n",
            "Requirement already satisfied: sniffio in /usr/local/lib/python3.11/dist-packages (from openai->-r requirements.txt (line 1)) (1.3.1)\n",
            "Requirement already satisfied: tqdm>4 in /usr/local/lib/python3.11/dist-packages (from openai->-r requirements.txt (line 1)) (4.67.1)\n",
            "Requirement already satisfied: typing-extensions<5,>=4.11 in /usr/local/lib/python3.11/dist-packages (from openai->-r requirements.txt (line 1)) (4.12.2)\n",
            "Requirement already satisfied: absl-py>=1.0.0 in /usr/local/lib/python3.11/dist-packages (from tensorflow->-r requirements.txt (line 2)) (1.4.0)\n",
            "Requirement already satisfied: astunparse>=1.6.0 in /usr/local/lib/python3.11/dist-packages (from tensorflow->-r requirements.txt (line 2)) (1.6.3)\n",
            "Requirement already satisfied: flatbuffers>=24.3.25 in /usr/local/lib/python3.11/dist-packages (from tensorflow->-r requirements.txt (line 2)) (25.1.24)\n",
            "Requirement already satisfied: gast!=0.5.0,!=0.5.1,!=0.5.2,>=0.2.1 in /usr/local/lib/python3.11/dist-packages (from tensorflow->-r requirements.txt (line 2)) (0.6.0)\n",
            "Requirement already satisfied: google-pasta>=0.1.1 in /usr/local/lib/python3.11/dist-packages (from tensorflow->-r requirements.txt (line 2)) (0.2.0)\n",
            "Requirement already satisfied: libclang>=13.0.0 in /usr/local/lib/python3.11/dist-packages (from tensorflow->-r requirements.txt (line 2)) (18.1.1)\n",
            "Requirement already satisfied: opt-einsum>=2.3.2 in /usr/local/lib/python3.11/dist-packages (from tensorflow->-r requirements.txt (line 2)) (3.4.0)\n",
            "Requirement already satisfied: packaging in /usr/local/lib/python3.11/dist-packages (from tensorflow->-r requirements.txt (line 2)) (24.2)\n",
            "Requirement already satisfied: protobuf!=4.21.0,!=4.21.1,!=4.21.2,!=4.21.3,!=4.21.4,!=4.21.5,<6.0.0dev,>=3.20.3 in /usr/local/lib/python3.11/dist-packages (from tensorflow->-r requirements.txt (line 2)) (4.25.6)\n",
            "Requirement already satisfied: setuptools in /usr/local/lib/python3.11/dist-packages (from tensorflow->-r requirements.txt (line 2)) (75.1.0)\n",
            "Requirement already satisfied: six>=1.12.0 in /usr/local/lib/python3.11/dist-packages (from tensorflow->-r requirements.txt (line 2)) (1.17.0)\n",
            "Requirement already satisfied: termcolor>=1.1.0 in /usr/local/lib/python3.11/dist-packages (from tensorflow->-r requirements.txt (line 2)) (2.5.0)\n",
            "Requirement already satisfied: wrapt>=1.11.0 in /usr/local/lib/python3.11/dist-packages (from tensorflow->-r requirements.txt (line 2)) (1.17.2)\n",
            "Requirement already satisfied: grpcio<2.0,>=1.24.3 in /usr/local/lib/python3.11/dist-packages (from tensorflow->-r requirements.txt (line 2)) (1.70.0)\n",
            "Requirement already satisfied: tensorboard<2.19,>=2.18 in /usr/local/lib/python3.11/dist-packages (from tensorflow->-r requirements.txt (line 2)) (2.18.0)\n",
            "Requirement already satisfied: keras>=3.5.0 in /usr/local/lib/python3.11/dist-packages (from tensorflow->-r requirements.txt (line 2)) (3.8.0)\n",
            "Requirement already satisfied: h5py>=3.11.0 in /usr/local/lib/python3.11/dist-packages (from tensorflow->-r requirements.txt (line 2)) (3.12.1)\n",
            "Requirement already satisfied: ml-dtypes<0.5.0,>=0.4.0 in /usr/local/lib/python3.11/dist-packages (from tensorflow->-r requirements.txt (line 2)) (0.4.1)\n",
            "Requirement already satisfied: tensorflow-io-gcs-filesystem>=0.23.1 in /usr/local/lib/python3.11/dist-packages (from tensorflow->-r requirements.txt (line 2)) (0.37.1)\n",
            "Requirement already satisfied: pillow>=9.1.0 in /usr/local/lib/python3.11/dist-packages (from qrcode[pil]->-r requirements.txt (line 5)) (11.1.0)\n",
            "Requirement already satisfied: contourpy>=1.0.1 in /usr/local/lib/python3.11/dist-packages (from matplotlib->-r requirements.txt (line 6)) (1.3.1)\n",
            "Requirement already satisfied: cycler>=0.10 in /usr/local/lib/python3.11/dist-packages (from matplotlib->-r requirements.txt (line 6)) (0.12.1)\n",
            "Requirement already satisfied: fonttools>=4.22.0 in /usr/local/lib/python3.11/dist-packages (from matplotlib->-r requirements.txt (line 6)) (4.55.8)\n",
            "Requirement already satisfied: kiwisolver>=1.3.1 in /usr/local/lib/python3.11/dist-packages (from matplotlib->-r requirements.txt (line 6)) (1.4.8)\n",
            "Requirement already satisfied: pyparsing>=2.3.1 in /usr/local/lib/python3.11/dist-packages (from matplotlib->-r requirements.txt (line 6)) (3.2.1)\n",
            "Requirement already satisfied: python-dateutil>=2.7 in /usr/local/lib/python3.11/dist-packages (from matplotlib->-r requirements.txt (line 6)) (2.8.2)\n",
            "Requirement already satisfied: charset-normalizer<4,>=2 in /usr/local/lib/python3.11/dist-packages (from requests->-r requirements.txt (line 7)) (3.4.1)\n",
            "Requirement already satisfied: idna<4,>=2.5 in /usr/local/lib/python3.11/dist-packages (from requests->-r requirements.txt (line 7)) (3.10)\n",
            "Requirement already satisfied: urllib3<3,>=1.21.1 in /usr/local/lib/python3.11/dist-packages (from requests->-r requirements.txt (line 7)) (2.3.0)\n",
            "Requirement already satisfied: certifi>=2017.4.17 in /usr/local/lib/python3.11/dist-packages (from requests->-r requirements.txt (line 7)) (2025.1.31)\n",
            "Requirement already satisfied: wheel<1.0,>=0.23.0 in /usr/local/lib/python3.11/dist-packages (from astunparse>=1.6.0->tensorflow->-r requirements.txt (line 2)) (0.45.1)\n",
            "Requirement already satisfied: httpcore==1.* in /usr/local/lib/python3.11/dist-packages (from httpx<1,>=0.23.0->openai->-r requirements.txt (line 1)) (1.0.7)\n",
            "Requirement already satisfied: h11<0.15,>=0.13 in /usr/local/lib/python3.11/dist-packages (from httpcore==1.*->httpx<1,>=0.23.0->openai->-r requirements.txt (line 1)) (0.14.0)\n",
            "Requirement already satisfied: rich in /usr/local/lib/python3.11/dist-packages (from keras>=3.5.0->tensorflow->-r requirements.txt (line 2)) (13.9.4)\n",
            "Requirement already satisfied: namex in /usr/local/lib/python3.11/dist-packages (from keras>=3.5.0->tensorflow->-r requirements.txt (line 2)) (0.0.8)\n",
            "Requirement already satisfied: optree in /usr/local/lib/python3.11/dist-packages (from keras>=3.5.0->tensorflow->-r requirements.txt (line 2)) (0.14.0)\n",
            "Requirement already satisfied: annotated-types>=0.6.0 in /usr/local/lib/python3.11/dist-packages (from pydantic<3,>=1.9.0->openai->-r requirements.txt (line 1)) (0.7.0)\n",
            "Requirement already satisfied: pydantic-core==2.27.2 in /usr/local/lib/python3.11/dist-packages (from pydantic<3,>=1.9.0->openai->-r requirements.txt (line 1)) (2.27.2)\n",
            "Requirement already satisfied: markdown>=2.6.8 in /usr/local/lib/python3.11/dist-packages (from tensorboard<2.19,>=2.18->tensorflow->-r requirements.txt (line 2)) (3.7)\n",
            "Requirement already satisfied: tensorboard-data-server<0.8.0,>=0.7.0 in /usr/local/lib/python3.11/dist-packages (from tensorboard<2.19,>=2.18->tensorflow->-r requirements.txt (line 2)) (0.7.2)\n",
            "Requirement already satisfied: werkzeug>=1.0.1 in /usr/local/lib/python3.11/dist-packages (from tensorboard<2.19,>=2.18->tensorflow->-r requirements.txt (line 2)) (3.1.3)\n",
            "Requirement already satisfied: MarkupSafe>=2.1.1 in /usr/local/lib/python3.11/dist-packages (from werkzeug>=1.0.1->tensorboard<2.19,>=2.18->tensorflow->-r requirements.txt (line 2)) (3.0.2)\n",
            "Requirement already satisfied: markdown-it-py>=2.2.0 in /usr/local/lib/python3.11/dist-packages (from rich->keras>=3.5.0->tensorflow->-r requirements.txt (line 2)) (3.0.0)\n",
            "Requirement already satisfied: pygments<3.0.0,>=2.13.0 in /usr/local/lib/python3.11/dist-packages (from rich->keras>=3.5.0->tensorflow->-r requirements.txt (line 2)) (2.18.0)\n",
            "Requirement already satisfied: mdurl~=0.1 in /usr/local/lib/python3.11/dist-packages (from markdown-it-py>=2.2.0->rich->keras>=3.5.0->tensorflow->-r requirements.txt (line 2)) (0.1.2)\n"
          ]
        }
      ]
    },
    {
      "cell_type": "code",
      "source": [
        "!pip show qrcode\n"
      ],
      "metadata": {
        "colab": {
          "base_uri": "https://localhost:8080/"
        },
        "id": "aLq3lT0blYS6",
        "outputId": "345e24ef-194a-4ea7-9001-9a3cf743eee4"
      },
      "execution_count": null,
      "outputs": [
        {
          "output_type": "stream",
          "name": "stdout",
          "text": [
            "Name: qrcode\n",
            "Version: 8.0\n",
            "Summary: QR Code image generator\n",
            "Home-page: https://github.com/lincolnloop/python-qrcode\n",
            "Author: Lincoln Loop\n",
            "Author-email: info@lincolnloop.com\n",
            "License: BSD\n",
            "Location: /usr/local/lib/python3.11/dist-packages\n",
            "Requires: \n",
            "Required-by: \n"
          ]
        }
      ]
    },
    {
      "cell_type": "code",
      "source": [
        "!pip install qrcode[pil]\n"
      ],
      "metadata": {
        "colab": {
          "base_uri": "https://localhost:8080/"
        },
        "id": "v7kCjZo6lhB7",
        "outputId": "8f3ad2ae-f119-4d1a-f0d6-cf7971b1abb6"
      },
      "execution_count": null,
      "outputs": [
        {
          "output_type": "stream",
          "name": "stdout",
          "text": [
            "Requirement already satisfied: qrcode[pil] in /usr/local/lib/python3.11/dist-packages (8.0)\n",
            "Requirement already satisfied: pillow>=9.1.0 in /usr/local/lib/python3.11/dist-packages (from qrcode[pil]) (11.1.0)\n"
          ]
        }
      ]
    },
    {
      "cell_type": "code",
      "source": [
        "import qrcode\n",
        "import openai\n",
        "import tensorflow\n",
        "import cv2\n",
        "import numpy as np\n",
        "import matplotlib.pyplot as plt\n",
        "import requests\n",
        "\n",
        "print(\"✅ Todas las librerías están instaladas correctamente.\")\n"
      ],
      "metadata": {
        "colab": {
          "base_uri": "https://localhost:8080/"
        },
        "id": "NLj_J5NFlm6k",
        "outputId": "3fddc607-cc10-45da-9c2e-6a80e078f99c"
      },
      "execution_count": null,
      "outputs": [
        {
          "output_type": "stream",
          "name": "stdout",
          "text": [
            "✅ Todas las librerías están instaladas correctamente.\n"
          ]
        }
      ]
    },
    {
      "cell_type": "code",
      "source": [
        "from src.verificacion_producto import verificar_producto\n",
        "from src.chatbot_reclamos import generar_reclamo\n",
        "from src.generar_qr import generar_codigo_qr\n",
        "from src.seguimiento_reembolsos import seguimiento_reembolso\n",
        "\n",
        "print(\"✅ Importaciones exitosas\")\n"
      ],
      "metadata": {
        "colab": {
          "base_uri": "https://localhost:8080/"
        },
        "id": "CI2br6eKltZe",
        "outputId": "6cb574ac-d6ba-463b-b211-89c9be564925"
      },
      "execution_count": null,
      "outputs": [
        {
          "output_type": "stream",
          "name": "stdout",
          "text": [
            "✅ Importaciones exitosas\n"
          ]
        }
      ]
    },
    {
      "cell_type": "code",
      "source": [
        "resultado = verificar_producto(\"producto_recibido.jpg\")  # Asegúrate de tener una imagen de prueba\n",
        "print(resultado)\n"
      ],
      "metadata": {
        "colab": {
          "base_uri": "https://localhost:8080/"
        },
        "id": "e7cnEp9Jl7NV",
        "outputId": "6c6ebe87-c004-4a82-e2c3-0948255f5ed5"
      },
      "execution_count": null,
      "outputs": [
        {
          "output_type": "stream",
          "name": "stdout",
          "text": [
            "📦 Verificando imagen del producto: producto_recibido.jpg\n",
            "✅ Producto verificado (simulación)\n"
          ]
        }
      ]
    },
    {
      "cell_type": "code",
      "source": [
        "!git pull\n"
      ],
      "metadata": {
        "colab": {
          "base_uri": "https://localhost:8080/"
        },
        "id": "CfPGDBjVnuYW",
        "outputId": "7457e5c8-281c-4a29-b054-d81924c4f1db"
      },
      "execution_count": null,
      "outputs": [
        {
          "output_type": "stream",
          "name": "stdout",
          "text": [
            "remote: Enumerating objects: 7, done.\u001b[K\n",
            "remote: Counting objects:  14% (1/7)\u001b[K\rremote: Counting objects:  28% (2/7)\u001b[K\rremote: Counting objects:  42% (3/7)\u001b[K\rremote: Counting objects:  57% (4/7)\u001b[K\rremote: Counting objects:  71% (5/7)\u001b[K\rremote: Counting objects:  85% (6/7)\u001b[K\rremote: Counting objects: 100% (7/7)\u001b[K\rremote: Counting objects: 100% (7/7), done.\u001b[K\n",
            "remote: Compressing objects:  25% (1/4)\u001b[K\rremote: Compressing objects:  50% (2/4)\u001b[K\rremote: Compressing objects:  75% (3/4)\u001b[K\rremote: Compressing objects: 100% (4/4)\u001b[K\rremote: Compressing objects: 100% (4/4), done.\u001b[K\n",
            "remote: Total 4 (delta 3), reused 0 (delta 0), pack-reused 0 (from 0)\u001b[K\n",
            "Unpacking objects:  25% (1/4)\rUnpacking objects:  50% (2/4)\rUnpacking objects:  75% (3/4)\rUnpacking objects: 100% (4/4)\rUnpacking objects: 100% (4/4), 1.12 KiB | 1.12 MiB/s, done.\n",
            "From https://github.com/benitez-hue/Generaci-n-de-Prompts-con-IA\n",
            "   da5ad94..fbc4d81  main       -> origin/main\n",
            "Updating da5ad94..fbc4d81\n",
            "Fast-forward\n",
            " src/chatbot_reclamos.py | 9 \u001b[32m++++\u001b[m\u001b[31m-----\u001b[m\n",
            " 1 file changed, 4 insertions(+), 5 deletions(-)\n"
          ]
        }
      ]
    },
    {
      "cell_type": "code",
      "source": [
        "!pip install --upgrade openai\n"
      ],
      "metadata": {
        "colab": {
          "base_uri": "https://localhost:8080/"
        },
        "id": "pRH-Me6joV8I",
        "outputId": "3c42dcfa-5070-4769-d11a-464e0cf60bb3"
      },
      "execution_count": null,
      "outputs": [
        {
          "output_type": "stream",
          "name": "stdout",
          "text": [
            "Requirement already satisfied: openai in /usr/local/lib/python3.11/dist-packages (1.63.0)\n",
            "Requirement already satisfied: anyio<5,>=3.5.0 in /usr/local/lib/python3.11/dist-packages (from openai) (3.7.1)\n",
            "Requirement already satisfied: distro<2,>=1.7.0 in /usr/local/lib/python3.11/dist-packages (from openai) (1.9.0)\n",
            "Requirement already satisfied: httpx<1,>=0.23.0 in /usr/local/lib/python3.11/dist-packages (from openai) (0.28.1)\n",
            "Requirement already satisfied: jiter<1,>=0.4.0 in /usr/local/lib/python3.11/dist-packages (from openai) (0.8.2)\n",
            "Requirement already satisfied: pydantic<3,>=1.9.0 in /usr/local/lib/python3.11/dist-packages (from openai) (2.10.6)\n",
            "Requirement already satisfied: sniffio in /usr/local/lib/python3.11/dist-packages (from openai) (1.3.1)\n",
            "Requirement already satisfied: tqdm>4 in /usr/local/lib/python3.11/dist-packages (from openai) (4.67.1)\n",
            "Requirement already satisfied: typing-extensions<5,>=4.11 in /usr/local/lib/python3.11/dist-packages (from openai) (4.12.2)\n",
            "Requirement already satisfied: idna>=2.8 in /usr/local/lib/python3.11/dist-packages (from anyio<5,>=3.5.0->openai) (3.10)\n",
            "Requirement already satisfied: certifi in /usr/local/lib/python3.11/dist-packages (from httpx<1,>=0.23.0->openai) (2025.1.31)\n",
            "Requirement already satisfied: httpcore==1.* in /usr/local/lib/python3.11/dist-packages (from httpx<1,>=0.23.0->openai) (1.0.7)\n",
            "Requirement already satisfied: h11<0.15,>=0.13 in /usr/local/lib/python3.11/dist-packages (from httpcore==1.*->httpx<1,>=0.23.0->openai) (0.14.0)\n",
            "Requirement already satisfied: annotated-types>=0.6.0 in /usr/local/lib/python3.11/dist-packages (from pydantic<3,>=1.9.0->openai) (0.7.0)\n",
            "Requirement already satisfied: pydantic-core==2.27.2 in /usr/local/lib/python3.11/dist-packages (from pydantic<3,>=1.9.0->openai) (2.27.2)\n"
          ]
        }
      ]
    },
    {
      "cell_type": "code",
      "source": [
        "resultado = verificar_producto(\"producto_recibido.jpg\")  # Simulación, cambia el nombre si tienes otra imagen\n",
        "print(resultado)\n"
      ],
      "metadata": {
        "colab": {
          "base_uri": "https://localhost:8080/"
        },
        "id": "xUi8tMemvHJA",
        "outputId": "457c10c9-c44e-46af-b10d-eb61958edd01"
      },
      "execution_count": null,
      "outputs": [
        {
          "output_type": "stream",
          "name": "stdout",
          "text": [
            "📦 Verificando imagen del producto: producto_recibido.jpg\n",
            "✅ Producto verificado (simulación)\n"
          ]
        }
      ]
    },
    {
      "cell_type": "code",
      "source": [
        "!git add Optimización_de_la_Gestión_de_Devoluciones_con_IA.ipynb\n",
        "!git commit -m \"Actualización final del notebook\"\n",
        "!git push origin main\n"
      ],
      "metadata": {
        "colab": {
          "base_uri": "https://localhost:8080/"
        },
        "id": "w2SZoVaYXc5J",
        "outputId": "7e7ece02-1129-4b79-8280-6b5271d7161b"
      },
      "execution_count": null,
      "outputs": [
        {
          "output_type": "stream",
          "name": "stdout",
          "text": [
            "On branch main\n",
            "Your branch is up to date with 'origin/main'.\n",
            "\n",
            "nothing to commit, working tree clean\n",
            "Everything up-to-date\n"
          ]
        }
      ]
    },
    {
      "cell_type": "code",
      "source": [
        "!git add .\n",
        "!git commit -m \"Sincronización final del proyecto\"\n",
        "!git push origin main\n"
      ],
      "metadata": {
        "colab": {
          "base_uri": "https://localhost:8080/"
        },
        "id": "nQ71yLBKX8LH",
        "outputId": "15b92c91-56a5-48bf-c58c-8aae3330f40e"
      },
      "execution_count": null,
      "outputs": [
        {
          "output_type": "stream",
          "name": "stdout",
          "text": [
            "On branch main\n",
            "Your branch is up to date with 'origin/main'.\n",
            "\n",
            "nothing to commit, working tree clean\n",
            "Everything up-to-date\n"
          ]
        }
      ]
    },
    {
      "cell_type": "code",
      "source": [
        "!git status\n"
      ],
      "metadata": {
        "colab": {
          "base_uri": "https://localhost:8080/"
        },
        "id": "HTvD7GmoYemZ",
        "outputId": "0933bb66-c044-40fa-9409-8363fea61d1a"
      },
      "execution_count": null,
      "outputs": [
        {
          "output_type": "stream",
          "name": "stdout",
          "text": [
            "On branch main\n",
            "Your branch is up to date with 'origin/main'.\n",
            "\n",
            "nothing to commit, working tree clean\n"
          ]
        }
      ]
    },
    {
      "cell_type": "code",
      "source": [
        "!git commit -a --amend -m \"Actualización forzada del notebook\"\n",
        "!git push origin main --force\n"
      ],
      "metadata": {
        "colab": {
          "base_uri": "https://localhost:8080/"
        },
        "id": "-Rl1-jmaY78V",
        "outputId": "2bc8ff7c-570a-4d60-b9da-300b92ed0b08"
      },
      "execution_count": null,
      "outputs": [
        {
          "output_type": "stream",
          "name": "stdout",
          "text": [
            "[main ba5230b] Actualización forzada del notebook\n",
            " Date: Mon Feb 17 01:48:12 2025 -0300\n",
            " 1 file changed, 2 insertions(+), 7 deletions(-)\n",
            "Enumerating objects: 5, done.\n",
            "Counting objects: 100% (5/5), done.\n",
            "Delta compression using up to 2 threads\n",
            "Compressing objects: 100% (3/3), done.\n",
            "Writing objects: 100% (3/3), 347 bytes | 347.00 KiB/s, done.\n",
            "Total 3 (delta 2), reused 0 (delta 0), pack-reused 0\n",
            "remote: Resolving deltas: 100% (2/2), completed with 2 local objects.\u001b[K\n",
            "To https://github.com/benitez-hue/Generaci-n-de-Prompts-con-IA.git\n",
            " + 9c2b971...ba5230b main -> main (forced update)\n"
          ]
        }
      ]
    },
    {
      "cell_type": "code",
      "source": [
        "!ls -lh Optimización_de_la_Gestión_de_Devoluciones_con_IA.ipynb\n"
      ],
      "metadata": {
        "colab": {
          "base_uri": "https://localhost:8080/"
        },
        "id": "LKlokyMAbVMi",
        "outputId": "cf078e57-75d7-4f7a-b3a0-fbe3c8b326cd"
      },
      "execution_count": null,
      "outputs": [
        {
          "output_type": "stream",
          "name": "stdout",
          "text": [
            "-rw-r--r-- 1 root root 34K Feb 17 04:34 Optimización_de_la_Gestión_de_Devoluciones_con_IA.ipynb\n"
          ]
        }
      ]
    },
    {
      "cell_type": "code",
      "source": [
        "!git status\n"
      ],
      "metadata": {
        "colab": {
          "base_uri": "https://localhost:8080/"
        },
        "id": "H0Pnv2FCbeUh",
        "outputId": "2fac377b-33f3-4e2c-ab41-abca2030a681"
      },
      "execution_count": null,
      "outputs": [
        {
          "output_type": "stream",
          "name": "stdout",
          "text": [
            "On branch main\n",
            "Your branch is up to date with 'origin/main'.\n",
            "\n",
            "nothing to commit, working tree clean\n"
          ]
        }
      ]
    },
    {
      "cell_type": "code",
      "source": [
        "!git add Optimización_de_la_Gestión_de_Devoluciones_con_IA.ipynb\n"
      ],
      "metadata": {
        "id": "Wrs2TJo0fY66"
      },
      "execution_count": null,
      "outputs": []
    },
    {
      "cell_type": "code",
      "source": [
        "!git commit -m \"Actualización del notebook de optimización\"\n"
      ],
      "metadata": {
        "colab": {
          "base_uri": "https://localhost:8080/"
        },
        "id": "s-kSEpV4fdNZ",
        "outputId": "9d3873f1-2587-488d-8438-31c13122d5d6"
      },
      "execution_count": null,
      "outputs": [
        {
          "output_type": "stream",
          "name": "stdout",
          "text": [
            "On branch main\n",
            "Your branch is up to date with 'origin/main'.\n",
            "\n",
            "nothing to commit, working tree clean\n"
          ]
        }
      ]
    },
    {
      "cell_type": "code",
      "source": [
        "!git push origin main\n"
      ],
      "metadata": {
        "colab": {
          "base_uri": "https://localhost:8080/"
        },
        "id": "nkUOAm8-fjEi",
        "outputId": "ee1853fd-041e-4337-be14-6bd7fe7acf41"
      },
      "execution_count": null,
      "outputs": [
        {
          "output_type": "stream",
          "name": "stdout",
          "text": [
            "Everything up-to-date\n"
          ]
        }
      ]
    },
    {
      "cell_type": "code",
      "source": [
        "!git push --force origin main\n"
      ],
      "metadata": {
        "colab": {
          "base_uri": "https://localhost:8080/"
        },
        "id": "XaXowpKKfuwC",
        "outputId": "3818511c-43ca-4387-ba33-030ca4409aba"
      },
      "execution_count": null,
      "outputs": [
        {
          "output_type": "stream",
          "name": "stdout",
          "text": [
            "Everything up-to-date\n"
          ]
        }
      ]
    },
    {
      "cell_type": "code",
      "source": [
        "!ls -lh Optimización_de_la_Gestión_de_Devoluciones_con_IA.ipynb\n"
      ],
      "metadata": {
        "colab": {
          "base_uri": "https://localhost:8080/"
        },
        "id": "MyFFflolf0R8",
        "outputId": "6e573592-d776-4c69-e0fc-68a503a01c5c"
      },
      "execution_count": null,
      "outputs": [
        {
          "output_type": "stream",
          "name": "stdout",
          "text": [
            "-rw-r--r-- 1 root root 34K Feb 17 04:34 Optimización_de_la_Gestión_de_Devoluciones_con_IA.ipynb\n"
          ]
        }
      ]
    },
    {
      "cell_type": "code",
      "source": [
        "!git add -A\n",
        "!git commit -m \"Forzar actualización del notebook\"\n",
        "!git push --force origin main\n"
      ],
      "metadata": {
        "id": "gRQ0eWVff6r1",
        "outputId": "fc3d4a04-67de-4bd8-a05e-f284f1983292",
        "colab": {
          "base_uri": "https://localhost:8080/"
        }
      },
      "execution_count": null,
      "outputs": [
        {
          "output_type": "stream",
          "name": "stdout",
          "text": [
            "On branch main\n",
            "Your branch is up to date with 'origin/main'.\n",
            "\n",
            "nothing to commit, working tree clean\n",
            "Everything up-to-date\n"
          ]
        }
      ]
    },
    {
      "cell_type": "code",
      "source": [
        "import random\n",
        "\n",
        "def generar_mensaje_personalizado(cliente, producto, valor, tipo_cliente):\n",
        "    \"\"\"\n",
        "    Genera un mensaje automatizado basado en el tipo de cliente y el valor del producto.\n",
        "\n",
        "    - cliente: Nombre del cliente\n",
        "    - producto: Producto comprado\n",
        "    - valor: Categoría del valor del producto ('bajo', 'medio', 'alto')\n",
        "    - tipo_cliente: Tipo de cliente ('nuevo', 'frecuente', 'vip')\n",
        "    \"\"\"\n",
        "\n",
        "    mensajes = {\n",
        "        \"bajo\": {\n",
        "            \"nuevo\": f\"Hola {cliente}, gracias por tu compra del {producto}. ¡Esperamos que lo disfrutes! 😊\",\n",
        "            \"frecuente\": f\"Hola {cliente}, tu {producto} ya está en camino. ¡Gracias por confiar en nosotros nuevamente! 🚀\",\n",
        "            \"vip\": f\"{cliente}, tu {producto} ya fue despachado. Como siempre, cuentas con nuestra mejor atención. ⭐\"\n",
        "        },\n",
        "        \"medio\": {\n",
        "            \"nuevo\": f\"Hola {cliente}, tu pedido de {producto} ha sido confirmado. ¡Te enviaremos novedades pronto! 📦\",\n",
        "            \"frecuente\": f\"{cliente}, tu {producto} está en camino. ¡Gracias por seguir eligiéndonos! 🛍️\",\n",
        "            \"vip\": f\"{cliente}, hemos priorizado tu envío de {producto}. ¡Gracias por ser un cliente especial! ✨\"\n",
        "        },\n",
        "        \"alto\": {\n",
        "            \"nuevo\": f\"Estimado {cliente}, tu pedido de {producto} ha sido procesado con prioridad. Pronto recibirás novedades. 📲\",\n",
        "            \"frecuente\": f\"Hola {cliente}, tu {producto} está en camino. Sabemos lo importante que es para ti. 📦\",\n",
        "            \"vip\": f\"{cliente}, tu {producto} ha sido enviado con el más alto estándar de seguridad. Gracias por confiar en nosotros. 🏆\"\n",
        "        }\n",
        "    }\n",
        "\n",
        "    return mensajes[valor][tipo_cliente]\n",
        "\n",
        "# **Prueba del sistema**\n",
        "if __name__ == \"__main__\":\n",
        "    clientes = [\"María\", \"José\", \"Laura\", \"Carlos\"]\n",
        "    productos = [\"Celular X\", \"Notebook Pro\", \"Auriculares Inalámbricos\"]\n",
        "    valores = [\"bajo\", \"medio\", \"alto\"]\n",
        "    tipos_clientes = [\"nuevo\", \"frecuente\", \"vip\"]\n",
        "\n",
        "    # Prueba con datos aleatorios\n",
        "    for _ in range(5):\n",
        "        cliente = random.choice(clientes)\n",
        "        producto = random.choice(productos)\n",
        "        valor = random.choice(valores)\n",
        "        tipo_cliente = random.choice(tipos_clientes)\n",
        "\n",
        "        mensaje = generar_mensaje_personalizado(cliente, producto, valor, tipo_cliente)\n",
        "        print(mensaje)\n"
      ],
      "metadata": {
        "colab": {
          "base_uri": "https://localhost:8080/"
        },
        "id": "lNFhqlstycKy",
        "outputId": "f16b4a39-438b-4b1a-8acc-fe4769f5bd02"
      },
      "execution_count": 1,
      "outputs": [
        {
          "output_type": "stream",
          "name": "stdout",
          "text": [
            "Laura, hemos priorizado tu envío de Notebook Pro. ¡Gracias por ser un cliente especial! ✨\n",
            "Hola María, tu Auriculares Inalámbricos está en camino. Sabemos lo importante que es para ti. 📦\n",
            "Estimado José, tu pedido de Celular X ha sido procesado con prioridad. Pronto recibirás novedades. 📲\n",
            "Estimado Carlos, tu pedido de Notebook Pro ha sido procesado con prioridad. Pronto recibirás novedades. 📲\n",
            "José, tu Celular X está en camino. ¡Gracias por seguir eligiéndonos! 🛍️\n"
          ]
        }
      ]
    },
    {
      "cell_type": "code",
      "source": [
        "import qrcode\n",
        "\n",
        "def generar_qr_reclamo(numero_reclamo):\n",
        "    \"\"\"\n",
        "    Genera un código QR con el número de reclamo.\n",
        "    :param numero_reclamo: ID único del reclamo.\n",
        "    :return: Guarda la imagen del QR con el reclamo.\n",
        "    \"\"\"\n",
        "    # 🔗 URL o texto del QR (puede ser un link a la consulta del reclamo)\n",
        "    url_reclamo = f\"https://miempresa.com/reclamos/{numero_reclamo}\"\n",
        "\n",
        "    # 📌 Crear el QR\n",
        "    qr = qrcode.QRCode(\n",
        "        version=1,\n",
        "        error_correction=qrcode.constants.ERROR_CORRECT_L,\n",
        "        box_size=10,\n",
        "        border=4,\n",
        "    )\n",
        "    qr.add_data(url_reclamo)\n",
        "    qr.make(fit=True)\n",
        "\n",
        "    # 🎨 Crear imagen del QR\n",
        "    img = qr.make_image(fill=\"black\", back_color=\"white\")\n",
        "\n",
        "    # 📂 Guardar la imagen con el número de reclamo\n",
        "    nombre_archivo = f\"qr_reclamo_{numero_reclamo}.png\"\n",
        "    img.save(nombre_archivo)\n",
        "\n",
        "    print(f\"✅ QR generado: {nombre_archivo}\")\n",
        "\n",
        "# 🔥 **Prueba con un reclamo**\n",
        "generar_qr_reclamo(12345)  # Reemplaza con el número de reclamo real\n"
      ],
      "metadata": {
        "colab": {
          "base_uri": "https://localhost:8080/"
        },
        "id": "cpD8Gwuv97c2",
        "outputId": "0aac1518-cf13-4604-924a-bbb0dabde1c9"
      },
      "execution_count": 6,
      "outputs": [
        {
          "output_type": "stream",
          "name": "stdout",
          "text": [
            "✅ QR generado: qr_reclamo_12345.png\n"
          ]
        }
      ]
    },
    {
      "cell_type": "code",
      "source": [
        "!pip install qrcode[pil]\n"
      ],
      "metadata": {
        "colab": {
          "base_uri": "https://localhost:8080/"
        },
        "id": "5OJ1y_b8ClYt",
        "outputId": "a95b4ecb-c533-4a92-85c5-7162e97b6965"
      },
      "execution_count": 4,
      "outputs": [
        {
          "output_type": "stream",
          "name": "stdout",
          "text": [
            "Collecting qrcode[pil]\n",
            "  Downloading qrcode-8.0-py3-none-any.whl.metadata (17 kB)\n",
            "Requirement already satisfied: pillow>=9.1.0 in /usr/local/lib/python3.11/dist-packages (from qrcode[pil]) (11.1.0)\n",
            "Downloading qrcode-8.0-py3-none-any.whl (45 kB)\n",
            "\u001b[?25l   \u001b[90m━━━━━━━━━━━━━━━━━━━━━━━━━━━━━━━━━━━━━━━━\u001b[0m \u001b[32m0.0/45.7 kB\u001b[0m \u001b[31m?\u001b[0m eta \u001b[36m-:--:--\u001b[0m\r\u001b[2K   \u001b[90m━━━━━━━━━━━━━━━━━━━━━━━━━━━━━━━━━━━━━━━━\u001b[0m \u001b[32m45.7/45.7 kB\u001b[0m \u001b[31m1.5 MB/s\u001b[0m eta \u001b[36m0:00:00\u001b[0m\n",
            "\u001b[?25hInstalling collected packages: qrcode\n",
            "Successfully installed qrcode-8.0\n"
          ]
        }
      ]
    },
    {
      "cell_type": "markdown",
      "source": [
        " Integrar QR + Mensajes Personalizados"
      ],
      "metadata": {
        "id": "vXfoRa11F75T"
      }
    },
    {
      "cell_type": "code",
      "source": [
        "import qrcode\n",
        "\n",
        "def generar_qr_reclamo(numero_reclamo):\n",
        "    \"\"\"\n",
        "    Genera un código QR con el número de reclamo.\n",
        "    \"\"\"\n",
        "    url_reclamo = f\"https://miempresa.com/reclamos/{numero_reclamo}\"\n",
        "\n",
        "    qr = qrcode.make(url_reclamo)  # Generar QR\n",
        "    nombre_archivo = f\"qr_reclamo_{numero_reclamo}.png\"\n",
        "\n",
        "    qr.save(nombre_archivo)  # Guardar imagen\n",
        "\n",
        "    return nombre_archivo  # Retorna el nombre del archivo QR generado\n",
        "\n",
        "\n",
        "def generar_mensaje_reclamo(nombre_cliente, numero_reclamo, producto, es_cliente_vip):\n",
        "    \"\"\"\n",
        "    Genera un mensaje personalizado para el cliente con su número de reclamo y un tono adecuado.\n",
        "    \"\"\"\n",
        "    # Generamos el QR\n",
        "    qr = generar_qr_reclamo(numero_reclamo)\n",
        "\n",
        "    # Definir el tono del mensaje según el producto\n",
        "    if producto.lower() in [\"notebook pro\", \"celular x\"]:\n",
        "        tono = \"formal\"\n",
        "        mensaje = f\"Estimado/a {nombre_cliente}, lamentamos el inconveniente con su {producto}. Hemos generado su reclamo con prioridad. Su código QR de seguimiento ha sido generado.\"\n",
        "    else:\n",
        "        tono = \"amigable\"\n",
        "        mensaje = f\"{nombre_cliente}, tu reclamo por {producto} está en proceso. Te mantendremos informado/a. Aquí tienes tu código QR para seguimiento.\"\n",
        "\n",
        "    # Agregar personalización para clientes VIP\n",
        "    if es_cliente_vip:\n",
        "        mensaje += \" 🎉 ¡Gracias por ser un cliente especial! Siempre estamos aquí para ayudarte.\"\n",
        "\n",
        "    return mensaje, qr  # Retorna el mensaje y el QR generado\n",
        "\n",
        "\n",
        "# 🔥 **Prueba con diferentes casos**\n",
        "mensaje, qr_generado = generar_mensaje_reclamo(\"Laura\", 56789, \"Notebook Pro\", True)\n",
        "print(\"📩 Mensaje generado:\")\n",
        "print(mensaje)\n",
        "print(f\"📎 Código QR generado: {qr_generado}\")\n"
      ],
      "metadata": {
        "colab": {
          "base_uri": "https://localhost:8080/"
        },
        "id": "yzzl65P4F886",
        "outputId": "79c71759-8c3d-43bd-d872-67b81516e891"
      },
      "execution_count": 7,
      "outputs": [
        {
          "output_type": "stream",
          "name": "stdout",
          "text": [
            "📩 Mensaje generado:\n",
            "Estimado/a Laura, lamentamos el inconveniente con su Notebook Pro. Hemos generado su reclamo con prioridad. Su código QR de seguimiento ha sido generado. 🎉 ¡Gracias por ser un cliente especial! Siempre estamos aquí para ayudarte.\n",
            "📎 Código QR generado: qr_reclamo_56789.png\n"
          ]
        }
      ]
    },
    {
      "cell_type": "code",
      "source": [
        "!git add src/generar_qr.py\n",
        "!git add src/mensajes_personalizados.py  # Si este archivo existe\n",
        "!git commit -m \"Integración de QR con mensajes personalizados\"\n",
        "!git push origin main\n"
      ],
      "metadata": {
        "colab": {
          "base_uri": "https://localhost:8080/"
        },
        "id": "9Z1p1e86PQRL",
        "outputId": "934854f2-5ce7-4bad-c017-8991f4bd2639"
      },
      "execution_count": 8,
      "outputs": [
        {
          "output_type": "stream",
          "name": "stdout",
          "text": [
            "fatal: not a git repository (or any of the parent directories): .git\n",
            "fatal: not a git repository (or any of the parent directories): .git\n",
            "fatal: not a git repository (or any of the parent directories): .git\n",
            "fatal: not a git repository (or any of the parent directories): .git\n"
          ]
        }
      ]
    },
    {
      "cell_type": "code",
      "source": [
        "!pwd\n"
      ],
      "metadata": {
        "colab": {
          "base_uri": "https://localhost:8080/"
        },
        "id": "TqZg1LgYRGH6",
        "outputId": "8fe40a67-3cf5-4f13-b7c0-29f0c53486e4"
      },
      "execution_count": 9,
      "outputs": [
        {
          "output_type": "stream",
          "name": "stdout",
          "text": [
            "/content\n"
          ]
        }
      ]
    },
    {
      "cell_type": "code",
      "source": [
        "%cd /content/Generaci-n-de-Prompts-con-IA\n"
      ],
      "metadata": {
        "colab": {
          "base_uri": "https://localhost:8080/"
        },
        "id": "EGhFWV7kRopW",
        "outputId": "efac7acc-cfa9-4178-cdb1-0f6d86cdd0b7"
      },
      "execution_count": 10,
      "outputs": [
        {
          "output_type": "stream",
          "name": "stdout",
          "text": [
            "[Errno 2] No such file or directory: '/content/Generaci-n-de-Prompts-con-IA'\n",
            "/content\n"
          ]
        }
      ]
    },
    {
      "cell_type": "code",
      "source": [
        "!ls -lh /content\n"
      ],
      "metadata": {
        "colab": {
          "base_uri": "https://localhost:8080/"
        },
        "id": "P7BiyFvqSLzC",
        "outputId": "2dc419e5-cd35-42e6-e4d4-2e6e0a24d37e"
      },
      "execution_count": 11,
      "outputs": [
        {
          "output_type": "stream",
          "name": "stdout",
          "text": [
            "total 12K\n",
            "-rw-r--r-- 1 root root  681 Mar  3 22:06 qr_reclamo_12345.png\n",
            "-rw-r--r-- 1 root root  690 Mar  3 22:20 qr_reclamo_56789.png\n",
            "drwxr-xr-x 1 root root 4.0K Feb 28 14:20 sample_data\n"
          ]
        }
      ]
    },
    {
      "cell_type": "code",
      "source": [
        "!git clone https://github.com/benitez-hue/Generaci-n-de-Prompts-con-IA.git\n"
      ],
      "metadata": {
        "colab": {
          "base_uri": "https://localhost:8080/"
        },
        "id": "372CATKmTVll",
        "outputId": "ae5654bd-c706-4f46-b82b-042119862c44"
      },
      "execution_count": 12,
      "outputs": [
        {
          "output_type": "stream",
          "name": "stdout",
          "text": [
            "Cloning into 'Generaci-n-de-Prompts-con-IA'...\n",
            "remote: Enumerating objects: 115, done.\u001b[K\n",
            "remote: Counting objects: 100% (115/115), done.\u001b[K\n",
            "error: RPC failed; curl 56 GnuTLS recv error (-24): Decryption has failed.\n",
            "fatal: early EOF\n",
            "fatal: fetch-pack: invalid index-pack output\n"
          ]
        }
      ]
    },
    {
      "cell_type": "code",
      "source": [
        "!git clone https://github.com/benitez-hue/Generaci-n-de-Prompts-con-IA.git\n"
      ],
      "metadata": {
        "colab": {
          "base_uri": "https://localhost:8080/"
        },
        "id": "jiztOslTZUb-",
        "outputId": "84e2149d-f4c0-418c-e7e2-6d38c12c1ceb"
      },
      "execution_count": 13,
      "outputs": [
        {
          "output_type": "stream",
          "name": "stdout",
          "text": [
            "Cloning into 'Generaci-n-de-Prompts-con-IA'...\n",
            "remote: Enumerating objects: 115, done.\u001b[K\n",
            "remote: Counting objects: 100% (115/115), done.\u001b[K\n",
            "remote: Compressing objects: 100% (104/104), done.\u001b[K\n",
            "remote: Total 115 (delta 53), reused 8 (delta 3), pack-reused 0 (from 0)\u001b[K\n",
            "Receiving objects: 100% (115/115), 52.80 KiB | 761.00 KiB/s, done.\n",
            "Resolving deltas: 100% (53/53), done.\n"
          ]
        }
      ]
    },
    {
      "cell_type": "code",
      "source": [
        "%cd /content/Generaci-n-de-Prompts-con-IA\n"
      ],
      "metadata": {
        "colab": {
          "base_uri": "https://localhost:8080/"
        },
        "id": "09v_e7gAcJgH",
        "outputId": "5a6acaa0-df11-4dab-eb12-2bddbf3f1792"
      },
      "execution_count": 14,
      "outputs": [
        {
          "output_type": "stream",
          "name": "stdout",
          "text": [
            "/content/Generaci-n-de-Prompts-con-IA\n"
          ]
        }
      ]
    },
    {
      "cell_type": "code",
      "source": [
        "!ls -lh\n"
      ],
      "metadata": {
        "colab": {
          "base_uri": "https://localhost:8080/"
        },
        "id": "Xa_Ryl0UcRWp",
        "outputId": "10e8885e-0a7b-4b83-a34f-891277529009"
      },
      "execution_count": 15,
      "outputs": [
        {
          "output_type": "stream",
          "name": "stdout",
          "text": [
            "total 80K\n",
            "-rw-r--r-- 1 root root  65K Mar  3 23:44 Optimización_de_la_Gestión_de_Devoluciones_con_IA.ipynb\n",
            "-rw-r--r-- 1 root root 3.6K Mar  3 23:44 README.md\n",
            "-rw-r--r-- 1 root root   70 Mar  3 23:44 requirements.txt\n",
            "drwxr-xr-x 2 root root 4.0K Mar  3 23:44 src\n"
          ]
        }
      ]
    },
    {
      "cell_type": "code",
      "source": [
        "!git add src/generar_qr.py\n",
        "!git add Optimización_de_la_Gestión_de_Devoluciones_con_IA.ipynb\n",
        "!git commit -m \"Integración de QR con mensajes personalizados y actualización del notebook\"\n",
        "!git push origin main\n"
      ],
      "metadata": {
        "colab": {
          "base_uri": "https://localhost:8080/"
        },
        "id": "807BabAGexON",
        "outputId": "ac9626e1-0a8d-4f7b-e7b2-f65200e87cf2"
      },
      "execution_count": 2,
      "outputs": [
        {
          "output_type": "stream",
          "name": "stdout",
          "text": [
            "fatal: not a git repository (or any of the parent directories): .git\n",
            "fatal: not a git repository (or any of the parent directories): .git\n",
            "fatal: not a git repository (or any of the parent directories): .git\n",
            "fatal: not a git repository (or any of the parent directories): .git\n"
          ]
        }
      ]
    },
    {
      "cell_type": "markdown",
      "source": [],
      "metadata": {
        "id": "d2YY87r4e3c-"
      }
    },
    {
      "cell_type": "code",
      "source": [
        "!ls -lh src/\n"
      ],
      "metadata": {
        "colab": {
          "base_uri": "https://localhost:8080/"
        },
        "id": "HNu_mEV-hGYT",
        "outputId": "2fb1ab65-4ee0-4c97-b09e-0a49e2ccf380"
      },
      "execution_count": 1,
      "outputs": [
        {
          "output_type": "stream",
          "name": "stdout",
          "text": [
            "ls: cannot access 'src/': No such file or directory\n"
          ]
        }
      ]
    },
    {
      "cell_type": "code",
      "source": [
        "def generar_mensaje(cliente, producto, prioridad=False):\n",
        "    \"\"\"\n",
        "    Genera un mensaje personalizado según el cliente y el producto.\n",
        "    - prioridad: si es True, el mensaje tendrá un tono más cercano.\n",
        "    \"\"\"\n",
        "    if prioridad:\n",
        "        return f\"{cliente}, hemos priorizado tu envío de {producto}. ¡Gracias por ser un cliente especial! ✨\"\n",
        "    else:\n",
        "        return f\"{cliente}, tu {producto} está en camino. ¡Gracias por seguir eligiéndonos! 🛍️\"\n",
        "\n",
        "# Prueba del código:\n",
        "if __name__ == \"__main__\":\n",
        "    print(generar_mensaje(\"Laura\", \"Notebook Pro\", prioridad=True))\n",
        "    print(generar_mensaje(\"José\", \"Celular X\"))\n"
      ],
      "metadata": {
        "colab": {
          "base_uri": "https://localhost:8080/"
        },
        "id": "C02vJgZuhmcY",
        "outputId": "50d9dbef-f8d3-435a-e8d6-ce724c5bf1d8"
      },
      "execution_count": 4,
      "outputs": [
        {
          "output_type": "stream",
          "name": "stdout",
          "text": [
            "Laura, hemos priorizado tu envío de Notebook Pro. ¡Gracias por ser un cliente especial! ✨\n",
            "José, tu Celular X está en camino. ¡Gracias por seguir eligiéndonos! 🛍️\n"
          ]
        }
      ]
    },
    {
      "cell_type": "code",
      "source": [
        "!ls src/\n"
      ],
      "metadata": {
        "colab": {
          "base_uri": "https://localhost:8080/"
        },
        "id": "_xGPHJ2QmDod",
        "outputId": "68e0ce84-b831-4915-8d88-b9e6ecd94bda"
      },
      "execution_count": 5,
      "outputs": [
        {
          "output_type": "stream",
          "name": "stdout",
          "text": [
            "ls: cannot access 'src/': No such file or directory\n"
          ]
        }
      ]
    },
    {
      "cell_type": "code",
      "source": [
        "!git add src/mensajes_personalizados.py\n",
        "!git commit -m \"Generación de mensajes sin API\"\n"
      ],
      "metadata": {
        "colab": {
          "base_uri": "https://localhost:8080/"
        },
        "id": "SL1LXww4nX1o",
        "outputId": "6683ac91-59fc-4f54-d67a-d5ca1a8775dd"
      },
      "execution_count": 6,
      "outputs": [
        {
          "output_type": "stream",
          "name": "stdout",
          "text": [
            "fatal: not a git repository (or any of the parent directories): .git\n",
            "fatal: not a git repository (or any of the parent directories): .git\n"
          ]
        }
      ]
    },
    {
      "cell_type": "code",
      "source": [
        "!git push origin main\n"
      ],
      "metadata": {
        "colab": {
          "base_uri": "https://localhost:8080/"
        },
        "id": "Wd1dCw6QnhhK",
        "outputId": "93f7929a-86ca-4426-f76c-79b018c699e8"
      },
      "execution_count": 7,
      "outputs": [
        {
          "output_type": "stream",
          "name": "stdout",
          "text": [
            "fatal: not a git repository (or any of the parent directories): .git\n"
          ]
        }
      ]
    },
    {
      "cell_type": "code",
      "source": [
        "!pwd  # Muestra la ruta actual en Colab\n",
        "\n"
      ],
      "metadata": {
        "colab": {
          "base_uri": "https://localhost:8080/"
        },
        "id": "H3HDy_TasaKE",
        "outputId": "ef087214-fd23-4b35-e260-a9c647da861f"
      },
      "execution_count": 8,
      "outputs": [
        {
          "output_type": "stream",
          "name": "stdout",
          "text": [
            "/content\n"
          ]
        }
      ]
    },
    {
      "cell_type": "code",
      "source": [
        "%cd /content/Generaci-n-de-Prompts-con-IA\n"
      ],
      "metadata": {
        "colab": {
          "base_uri": "https://localhost:8080/"
        },
        "id": "G0ss1cHZsfqs",
        "outputId": "a7f93af8-77b3-4c83-8f8f-b406864211ff"
      },
      "execution_count": 9,
      "outputs": [
        {
          "output_type": "stream",
          "name": "stdout",
          "text": [
            "[Errno 2] No such file or directory: '/content/Generaci-n-de-Prompts-con-IA'\n",
            "/content\n"
          ]
        }
      ]
    },
    {
      "cell_type": "code",
      "source": [
        "!git status\n"
      ],
      "metadata": {
        "colab": {
          "base_uri": "https://localhost:8080/"
        },
        "id": "dl0QNCRzsj2k",
        "outputId": "f3ea0d69-acd5-4044-e8eb-3a704065c232"
      },
      "execution_count": 10,
      "outputs": [
        {
          "output_type": "stream",
          "name": "stdout",
          "text": [
            "fatal: not a git repository (or any of the parent directories): .git\n"
          ]
        }
      ]
    },
    {
      "cell_type": "code",
      "source": [
        "!git clone https://github.com/benitez-hue/Generaci-n-de-Prompts-con-IA.git\n",
        "%cd Generaci-n-de-Prompts-con-IA\n"
      ],
      "metadata": {
        "colab": {
          "base_uri": "https://localhost:8080/"
        },
        "id": "6Zt1wgDZsnRd",
        "outputId": "c16b24c4-8b20-4763-98d8-a973dc72ad26"
      },
      "execution_count": 11,
      "outputs": [
        {
          "output_type": "stream",
          "name": "stdout",
          "text": [
            "Cloning into 'Generaci-n-de-Prompts-con-IA'...\n",
            "remote: Enumerating objects: 115, done.\u001b[K\n",
            "remote: Counting objects: 100% (115/115), done.\u001b[K\n",
            "remote: Compressing objects: 100% (104/104), done.\u001b[K\n",
            "remote: Total 115 (delta 53), reused 8 (delta 3), pack-reused 0 (from 0)\u001b[K\n",
            "Receiving objects: 100% (115/115), 52.80 KiB | 1.06 MiB/s, done.\n",
            "Resolving deltas: 100% (53/53), done.\n",
            "/content/Generaci-n-de-Prompts-con-IA\n"
          ]
        }
      ]
    },
    {
      "cell_type": "code",
      "source": [
        "!git add src/mensajes_personalizados.py\n",
        "!git commit -m \"Generación de mensajes sin API\"\n",
        "!git push origin main\n"
      ],
      "metadata": {
        "colab": {
          "base_uri": "https://localhost:8080/"
        },
        "id": "AneMIxHnss99",
        "outputId": "0fc2d6eb-6898-4d09-c956-2a60e31a390d"
      },
      "execution_count": 12,
      "outputs": [
        {
          "output_type": "stream",
          "name": "stdout",
          "text": [
            "fatal: pathspec 'src/mensajes_personalizados.py' did not match any files\n",
            "On branch main\n",
            "Your branch is up to date with 'origin/main'.\n",
            "\n",
            "nothing to commit, working tree clean\n",
            "fatal: could not read Username for 'https://github.com': No such device or address\n"
          ]
        }
      ]
    },
    {
      "cell_type": "code",
      "source": [
        "!mkdir -p src  # Crea la carpeta src si no existe\n",
        "!touch src/mensajes_personalizados.py  # Crea el archivo vacío\n"
      ],
      "metadata": {
        "id": "V0AQHfWe7bTP"
      },
      "execution_count": 1,
      "outputs": []
    },
    {
      "cell_type": "code",
      "source": [
        "%%writefile src/mensajes_personalizados.py\n",
        "def generar_mensaje(nombre, producto):\n",
        "    return f\"{nombre}, tu {producto} está en camino. ¡Gracias por elegirnos! 🚀\"\n",
        "\n",
        "# Prueba del código\n",
        "if __name__ == \"__main__\":\n",
        "    print(generar_mensaje(\"Laura\", \"Notebook Pro\"))\n"
      ],
      "metadata": {
        "colab": {
          "base_uri": "https://localhost:8080/"
        },
        "id": "qMG7foju8mxu",
        "outputId": "efb3ce39-1ed7-40a3-a4bf-fcb35ed1d6be"
      },
      "execution_count": 2,
      "outputs": [
        {
          "output_type": "stream",
          "name": "stdout",
          "text": [
            "Overwriting src/mensajes_personalizados.py\n"
          ]
        }
      ]
    },
    {
      "cell_type": "code",
      "source": [
        "!ls src/\n",
        "\n"
      ],
      "metadata": {
        "colab": {
          "base_uri": "https://localhost:8080/"
        },
        "id": "r8Zgl5vg-0nI",
        "outputId": "6d953a5b-73a5-4420-9982-87d71a457be5"
      },
      "execution_count": 3,
      "outputs": [
        {
          "output_type": "stream",
          "name": "stdout",
          "text": [
            "mensajes_personalizados.py\n"
          ]
        }
      ]
    },
    {
      "cell_type": "code",
      "source": [
        "!git add src/mensajes_personalizados.py\n",
        "!git commit -m \"Agregado script de generación de mensajes personalizados\"\n",
        "!git push origin main\n"
      ],
      "metadata": {
        "colab": {
          "base_uri": "https://localhost:8080/"
        },
        "id": "MobOosQ1-6L1",
        "outputId": "704d3581-61bf-476d-d230-ed567ffe1ce4"
      },
      "execution_count": 4,
      "outputs": [
        {
          "output_type": "stream",
          "name": "stdout",
          "text": [
            "fatal: not a git repository (or any of the parent directories): .git\n",
            "fatal: not a git repository (or any of the parent directories): .git\n",
            "fatal: not a git repository (or any of the parent directories): .git\n"
          ]
        }
      ]
    },
    {
      "cell_type": "code",
      "source": [
        "!pwd\n"
      ],
      "metadata": {
        "colab": {
          "base_uri": "https://localhost:8080/"
        },
        "id": "1LQvtwnd_zQl",
        "outputId": "27eae599-65a8-43ff-93eb-05b22d287120"
      },
      "execution_count": 5,
      "outputs": [
        {
          "output_type": "stream",
          "name": "stdout",
          "text": [
            "/content\n"
          ]
        }
      ]
    },
    {
      "cell_type": "code",
      "source": [
        "!git clone https://github.com/benitez-hue/Generaci-n-de-Prompts-con-IA.git\n"
      ],
      "metadata": {
        "colab": {
          "base_uri": "https://localhost:8080/"
        },
        "id": "2jbnkYn__9oF",
        "outputId": "ee14b0fa-cdd0-48b6-fab1-fba8571950ea"
      },
      "execution_count": 6,
      "outputs": [
        {
          "output_type": "stream",
          "name": "stdout",
          "text": [
            "Cloning into 'Generaci-n-de-Prompts-con-IA'...\n",
            "remote: Enumerating objects: 115, done.\u001b[K\n",
            "remote: Counting objects: 100% (115/115), done.\u001b[K\n",
            "remote: Compressing objects: 100% (104/104), done.\u001b[K\n",
            "remote: Total 115 (delta 53), reused 8 (delta 3), pack-reused 0 (from 0)\u001b[K\n",
            "Receiving objects: 100% (115/115), 52.80 KiB | 1.06 MiB/s, done.\n",
            "Resolving deltas: 100% (53/53), done.\n"
          ]
        }
      ]
    },
    {
      "cell_type": "code",
      "source": [
        "%cd /content/Generaci-n-de-Prompts-con-IA\n"
      ],
      "metadata": {
        "colab": {
          "base_uri": "https://localhost:8080/"
        },
        "id": "BuXTQ22eADSk",
        "outputId": "50cc4b33-bbd9-44e3-91cc-137e96675df1"
      },
      "execution_count": 7,
      "outputs": [
        {
          "output_type": "stream",
          "name": "stdout",
          "text": [
            "/content/Generaci-n-de-Prompts-con-IA\n"
          ]
        }
      ]
    },
    {
      "cell_type": "code",
      "source": [
        "!git status\n"
      ],
      "metadata": {
        "colab": {
          "base_uri": "https://localhost:8080/"
        },
        "id": "TjKUFq3mAGax",
        "outputId": "45b66784-3b10-4b6c-c1ad-975d0a41425b"
      },
      "execution_count": 8,
      "outputs": [
        {
          "output_type": "stream",
          "name": "stdout",
          "text": [
            "On branch main\n",
            "Your branch is up to date with 'origin/main'.\n",
            "\n",
            "nothing to commit, working tree clean\n"
          ]
        }
      ]
    },
    {
      "cell_type": "code",
      "source": [
        "!git add src/mensajes_personalizados.py\n",
        "!git commit -m \"Agregado mensajes personalizados sin API\"\n",
        "!git push origin main\n"
      ],
      "metadata": {
        "colab": {
          "base_uri": "https://localhost:8080/"
        },
        "id": "tLYXI1zEARbZ",
        "outputId": "22e504e5-ffd1-485e-d2dd-cb4780a7a338"
      },
      "execution_count": 9,
      "outputs": [
        {
          "output_type": "stream",
          "name": "stdout",
          "text": [
            "fatal: pathspec 'src/mensajes_personalizados.py' did not match any files\n",
            "Author identity unknown\n",
            "\n",
            "*** Please tell me who you are.\n",
            "\n",
            "Run\n",
            "\n",
            "  git config --global user.email \"you@example.com\"\n",
            "  git config --global user.name \"Your Name\"\n",
            "\n",
            "to set your account's default identity.\n",
            "Omit --global to set the identity only in this repository.\n",
            "\n",
            "fatal: unable to auto-detect email address (got 'root@31b680a95758.(none)')\n",
            "fatal: could not read Username for 'https://github.com': No such device or address\n"
          ]
        }
      ]
    },
    {
      "cell_type": "code",
      "source": [
        "!pwd\n"
      ],
      "metadata": {
        "colab": {
          "base_uri": "https://localhost:8080/"
        },
        "id": "FT5XBpYhDzt-",
        "outputId": "37a0e421-7f0b-47e1-8b51-507a397cb4c6"
      },
      "execution_count": 10,
      "outputs": [
        {
          "output_type": "stream",
          "name": "stdout",
          "text": [
            "/content/Generaci-n-de-Prompts-con-IA\n"
          ]
        }
      ]
    },
    {
      "cell_type": "code",
      "source": [
        "!git config --global user.email \"benitml980@example.com\"\n",
        "!git config --global user.name \"benitez-hue\"\n"
      ],
      "metadata": {
        "id": "_0Zof-liEBoh"
      },
      "execution_count": 11,
      "outputs": []
    },
    {
      "cell_type": "code",
      "source": [
        "!git config --list\n"
      ],
      "metadata": {
        "colab": {
          "base_uri": "https://localhost:8080/"
        },
        "id": "RYanGph8Ecvc",
        "outputId": "967acd24-d085-4725-b3f4-30913207a9bc"
      },
      "execution_count": 12,
      "outputs": [
        {
          "output_type": "stream",
          "name": "stdout",
          "text": [
            "filter.lfs.clean=git-lfs clean -- %f\n",
            "filter.lfs.smudge=git-lfs smudge -- %f\n",
            "filter.lfs.process=git-lfs filter-process\n",
            "filter.lfs.required=true\n",
            "user.email=benitml980@example.com\n",
            "user.name=benitez-hue\n",
            "core.repositoryformatversion=0\n",
            "core.filemode=true\n",
            "core.bare=false\n",
            "core.logallrefupdates=true\n",
            "remote.origin.url=https://github.com/benitez-hue/Generaci-n-de-Prompts-con-IA.git\n",
            "remote.origin.fetch=+refs/heads/*:refs/remotes/origin/*\n",
            "branch.main.remote=origin\n",
            "branch.main.merge=refs/heads/main\n"
          ]
        }
      ]
    },
    {
      "cell_type": "code",
      "source": [
        "%%writefile src/mensajes_personalizados.py\n",
        "def generar_mensaje(nombre, producto):\n",
        "    return f\"{nombre}, tu {producto} está en camino. ¡Gracias por elegirnos! 🚀\"\n",
        "\n",
        "# Prueba del código\n",
        "if __name__ == \"__main__\":\n",
        "    print(generar_mensaje(\"Laura\", \"Notebook Pro\"))\n"
      ],
      "metadata": {
        "colab": {
          "base_uri": "https://localhost:8080/"
        },
        "id": "fxoqPACVFAB7",
        "outputId": "e100ad28-d4e4-4470-b30e-edd3a164531a"
      },
      "execution_count": 13,
      "outputs": [
        {
          "output_type": "stream",
          "name": "stdout",
          "text": [
            "Writing src/mensajes_personalizados.py\n"
          ]
        }
      ]
    },
    {
      "cell_type": "code",
      "source": [
        "!ls src/\n"
      ],
      "metadata": {
        "colab": {
          "base_uri": "https://localhost:8080/"
        },
        "id": "TOK_tbywFHG6",
        "outputId": "5ea909e0-6eab-405c-8d70-88755d1ba622"
      },
      "execution_count": 14,
      "outputs": [
        {
          "output_type": "stream",
          "name": "stdout",
          "text": [
            "generar_qr.py  mensajes_personalizados.py  seguimiento_reembolsos.py  verificacion_producto.py\n"
          ]
        }
      ]
    },
    {
      "cell_type": "code",
      "source": [
        "!git add src/mensajes_personalizados.py\n",
        "!git commit -m \"Agregado mensajes personalizados sin API\"\n"
      ],
      "metadata": {
        "colab": {
          "base_uri": "https://localhost:8080/"
        },
        "id": "3LFDNnvOFPjd",
        "outputId": "e667059a-4b59-4847-e73c-f2905a0f04cd"
      },
      "execution_count": 15,
      "outputs": [
        {
          "output_type": "stream",
          "name": "stdout",
          "text": [
            "[main 9aa08bd] Agregado mensajes personalizados sin API\n",
            " 1 file changed, 6 insertions(+)\n",
            " create mode 100644 src/mensajes_personalizados.py\n"
          ]
        }
      ]
    },
    {
      "cell_type": "code",
      "source": [
        "!git push origin main\n"
      ],
      "metadata": {
        "colab": {
          "base_uri": "https://localhost:8080/"
        },
        "id": "l8RBYVu0GNS8",
        "outputId": "b6e307f9-0e9b-49e9-b7bf-3c3f640fc79f"
      },
      "execution_count": 16,
      "outputs": [
        {
          "output_type": "stream",
          "name": "stdout",
          "text": [
            "fatal: could not read Username for 'https://github.com': No such device or address\n"
          ]
        }
      ]
    },
    {
      "cell_type": "code",
      "source": [
        "%cd Generaci-n-de-Prompts-con-IA\n"
      ],
      "metadata": {
        "colab": {
          "base_uri": "https://localhost:8080/"
        },
        "id": "yjMnIoBXSTpF",
        "outputId": "f6d59df9-fa35-45e3-fbd2-8fcdb0f29588"
      },
      "execution_count": 17,
      "outputs": [
        {
          "output_type": "stream",
          "name": "stdout",
          "text": [
            "[Errno 2] No such file or directory: 'Generaci-n-de-Prompts-con-IA'\n",
            "/content/Generaci-n-de-Prompts-con-IA\n"
          ]
        }
      ]
    },
    {
      "cell_type": "code",
      "source": [
        "!ls src/\n"
      ],
      "metadata": {
        "colab": {
          "base_uri": "https://localhost:8080/"
        },
        "id": "JsdoWQAfScv0",
        "outputId": "088d702d-2ad2-42ec-8055-c381833e969e"
      },
      "execution_count": 18,
      "outputs": [
        {
          "output_type": "stream",
          "name": "stdout",
          "text": [
            "generar_qr.py  mensajes_personalizados.py  seguimiento_reembolsos.py  verificacion_producto.py\n"
          ]
        }
      ]
    },
    {
      "cell_type": "code",
      "source": [
        "from src.mensajes_personalizados import generar_mensaje\n",
        "\n",
        "print(generar_mensaje(\"Laura\", \"Notebook Pro\"))\n"
      ],
      "metadata": {
        "colab": {
          "base_uri": "https://localhost:8080/"
        },
        "id": "lvhb0gbmSjok",
        "outputId": "52991e13-4e50-484f-d839-6d02f8fe1adc"
      },
      "execution_count": 19,
      "outputs": [
        {
          "output_type": "stream",
          "name": "stdout",
          "text": [
            "Laura, tu Notebook Pro está en camino. ¡Gracias por elegirnos! 🚀\n"
          ]
        }
      ]
    }
  ]
}