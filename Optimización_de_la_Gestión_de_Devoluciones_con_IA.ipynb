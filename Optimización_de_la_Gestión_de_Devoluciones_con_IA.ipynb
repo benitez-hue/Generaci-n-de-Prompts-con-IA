{
  "nbformat": 4,
  "nbformat_minor": 0,
  "metadata": {
    "colab": {
      "provenance": [],
      "authorship_tag": "ABX9TyOfULugWyevANdPeCDB0usA",
      "include_colab_link": true
    },
    "kernelspec": {
      "name": "python3",
      "display_name": "Python 3"
    },
    "language_info": {
      "name": "python"
    }
  },
  "cells": [
    {
      "cell_type": "markdown",
      "metadata": {
        "id": "view-in-github",
        "colab_type": "text"
      },
      "source": [
        "<a href=\"https://colab.research.google.com/github/benitez-hue/Generaci-n-de-Prompts-con-IA/blob/main/Optimizaci%C3%B3n_de_la_Gesti%C3%B3n_de_Devoluciones_con_IA.ipynb\" target=\"_parent\"><img src=\"https://colab.research.google.com/assets/colab-badge.svg\" alt=\"Open In Colab\"/></a>"
      ]
    },
    {
      "cell_type": "markdown",
      "source": [],
      "metadata": {
        "id": "sQ2Lr421fc9d"
      }
    },
    {
      "cell_type": "markdown",
      "source": [
        "# 📦 Optimización de la Gestión de Devoluciones con IA\n",
        "## 🚀 Implementación de Fast Prompting en la Gestión de Devoluciones\n",
        "\n",
        "## 📌 Problema y Solución Propuesta (Resumen de la Primera Entrega)\n",
        "\n",
        "### 📦 Problema: Gestión Ineficiente de Devoluciones en Empresas de Intermediación de Compras Internacionales  \n",
        "\n",
        "Las empresas que actúan como intermediarias en compras internacionales enfrentan problemas recurrentes en la entrega de productos, generando costos adicionales y frustración en los clientes. Entre los principales inconvenientes se encuentran:  \n",
        "\n",
        "1. **Errores en la entrega:** Productos incorrectos enviados a los clientes finales.  \n",
        "2. **Procesos de devolución complejos:** Muchos clientes deben asumir costos de envío para devolver productos erróneos.  \n",
        "3. **Falta de validación automática de los paquetes antes de su despacho.**  \n",
        "4. **Mala comunicación entre la empresa intermediaria y la tienda vendedora.**  \n",
        "5. **Requerimiento de devoluciones presenciales**, lo que no es práctico para clientes que recibieron su pedido puerta a puerta.  \n",
        "\n",
        "---\n",
        "\n",
        "### 🚀 Solución Propuesta: Optimización con IA y Fast Prompting  \n",
        "\n",
        "💡 **Implementación de un sistema basado en IA para optimizar la gestión de devoluciones.**  \n",
        "\n",
        "### 🔍 Fase 1: Verificación Automática del Pedido con IA  \n",
        "✅ **Uso de Computer Vision** para analizar imágenes del paquete y compararlas con la orden de compra.  \n",
        "✅ **Escaneo de códigos de barras y etiquetas RFID** para cotejar con el pedido.  \n",
        "✅ **Alerta automática si hay discrepancias** antes de despachar al cliente final.  \n",
        "\n",
        "### 📲 Fase 2: Comunicación Automática con la Tienda Vendedora  \n",
        "✅ **Chatbot con IA** que envía **reclamos automáticos** con evidencia del error.  \n",
        "✅ **Generación de etiquetas de reenvío internacionales**, asegurando la entrega.  \n",
        "✅ **Plazo de respuesta máximo de 30 días** para gestionar devoluciones.  \n",
        "\n",
        "### 📦 Fase 3: Opciones de Devolución Simplificadas  \n",
        "✅ **Código QR para devoluciones sin embalaje ni etiqueta impresa.**  \n",
        "✅ **Puntos de devolución en ubicaciones estratégicas o recogida a domicilio.**  \n",
        "✅ **Posibilidad de usar transportistas externos con rastreo del paquete.**  \n",
        "\n",
        "### 📜 Fase 4: Seguimiento y Reembolsos Automatizados  \n",
        "✅ **Si el cliente ya recibió un reembolso anticipado, se rastrea la devolución.**  \n",
        "✅ **Si el producto no es devuelto, se aplica un cobro automático.**  \n",
        "✅ **El reembolso se procesa en un máximo de 3 días hábiles tras la recepción del producto.**  \n"
      ],
      "metadata": {
        "id": "aVlbzaiIfgCu"
      }
    },
    {
      "cell_type": "code",
      "source": [
        "# Cargar bibliotecas necesarias\n",
        "import cv2\n",
        "import numpy as np\n",
        "from tensorflow.keras.models import load_model\n"
      ],
      "metadata": {
        "id": "GfGMqrCVfkZH"
      },
      "execution_count": 1,
      "outputs": []
    },
    {
      "cell_type": "code",
      "source": [
        "#⃣ Fase 1: Verificación del Pedido con IA (Visión por Computadora)\n",
        "# Cargar modelo de reconocimiento de productos (simulación)\n",
        "# En un caso real, se entrenaría un modelo para clasificar los productos recibidos\n",
        "try:\n",
        "    model = load_model('modelo_reconocimiento_productos.h5')\n",
        "except:\n",
        "    print(\"⚠️ Advertencia: Modelo de reconocimiento no disponible.\")\n",
        "\n",
        "def verificar_producto(imagen):\n",
        "    \"\"\"Función para analizar la imagen del producto recibido y compararla con la orden esperada.\"\"\"\n",
        "    img = cv2.imread(imagen)\n",
        "    img = cv2.resize(img, (224, 224))  # Redimensionar para el modelo\n",
        "    img = np.expand_dims(img, axis=0)  # Agregar batch dimension\n",
        "\n",
        "    try:\n",
        "        prediccion = model.predict(img)\n",
        "        return prediccion  # Simulación de retorno de clase de producto\n",
        "    except:\n",
        "        return \"⚠️ No se pudo procesar la imagen. Verifique el modelo y la imagen.\"\n",
        "\n",
        "# Ejemplo de uso:\n",
        "# verificar_producto(\"producto_recibido.jpg\")\n"
      ],
      "metadata": {
        "colab": {
          "base_uri": "https://localhost:8080/"
        },
        "id": "SDzX8prwf-OC",
        "outputId": "a21ae8da-772b-42bd-926a-1cf49639d615"
      },
      "execution_count": 2,
      "outputs": [
        {
          "output_type": "stream",
          "name": "stdout",
          "text": [
            "⚠️ Advertencia: Modelo de reconocimiento no disponible.\n"
          ]
        }
      ]
    },
    {
      "cell_type": "markdown",
      "source": [
        "# Fase 2: Chatbot con IA para Comunicación con Tienda Vendedora\n",
        "Explicación de la Fase 2 (Código del Chatbot)\n",
        "🔹 Propósito: Automatizar la comunicación entre la empresa intermediaria y la tienda vendedora cuando se detecta un error en la entrega de un producto.\n",
        "🔹 Cómo funciona:\n",
        "\n",
        "Verifica si hay error en el pedido. Si el producto recibido es el correcto, no se consulta a OpenAI.\n",
        "Genera un mensaje estructurado y profesional para reclamar la devolución o el reemplazo.\n",
        "Optimiza el costo de la API, limitando el número de tokens en la consulta.\n",
        " Mejoras Implementadas\n",
        "✅ Evita llamadas innecesarias a OpenAI si el producto es correcto.\n",
        "✅ Reducción de tokens generados → Menos costos en la API.\n",
        "✅ Mejor claridad y estructura en el mensaje de reclamo."
      ],
      "metadata": {
        "id": "q7kT8B4CjcGh"
      }
    },
    {
      "cell_type": "code",
      "source": [
        "# Simulación de Chatbot para generar reclamos automáticos con optimización\n",
        "from openai import OpenAI\n",
        "\n",
        "# API Key de OpenAI (reemplazar con la clave real si se usa GPT)\n",
        "api_key = \"TU_API_KEY\"\n",
        "\n",
        "def generar_reclamo(orden, producto_esperado, producto_recibido):\n",
        "    \"\"\"Genera un mensaje automático para la tienda vendedora en caso de error en el pedido.\n",
        "       Optimizado para reducir costos de API y mejorar claridad en el mensaje.\n",
        "    \"\"\"\n",
        "\n",
        "    # Si el producto recibido es el correcto, no se hace consulta a la API\n",
        "    if producto_esperado == producto_recibido:\n",
        "        return f\"✅ El producto recibido ({producto_recibido}) coincide con la orden. No se requiere generar un reclamo.\"\n",
        "\n",
        "    # Prompt mejorado con estructura más formal\n",
        "    prompt = f\"\"\"\n",
        "    Actúa como un asistente de servicio al cliente especializado en devoluciones.\n",
        "\n",
        "    Un cliente ha reportado un error en su pedido y necesita asistencia.\n",
        "\n",
        "    📦 **Orden N° {orden}**\n",
        "    - Producto esperado: {producto_esperado}\n",
        "    - Producto recibido: {producto_recibido}\n",
        "\n",
        "    🎯 **Solicitud**: Genera un mensaje claro y profesional para notificar al vendedor sobre el error\n",
        "    y solicitar una solución rápida, ya sea reemplazo del producto o reembolso.\n",
        "\n",
        "    El mensaje debe ser corto, directo y mantener un tono formal.\n",
        "    \"\"\"\n",
        "\n",
        "    # Conexión con OpenAI\n",
        "    client = OpenAI(api_key=api_key)\n",
        "    response = client.Completion.create(\n",
        "        engine=\"text-davinci-003\",\n",
        "        prompt=prompt,\n",
        "        max_tokens=100  # Limitamos tokens para reducir costos\n",
        "    )\n",
        "\n",
        "    return response[\"choices\"][0][\"text\"]\n",
        "\n",
        "# Ejemplo de uso:\n",
        "# print(generar_reclamo(\"12345\", \"Celular X\", \"Celular Y\"))\n"
      ],
      "metadata": {
        "id": "_mWFJoCajlGx"
      },
      "execution_count": 3,
      "outputs": []
    },
    {
      "cell_type": "markdown",
      "source": [],
      "metadata": {
        "id": "Dpz6pjLJkMHV"
      }
    },
    {
      "cell_type": "markdown",
      "source": [],
      "metadata": {
        "id": "tiLFqoxrkmEQ"
      }
    },
    {
      "cell_type": "markdown",
      "source": [
        "Fase 3: Generación de Código QR para Devolución Explicación de la Fase 3 (Código QR)\n",
        "🔹 Propósito: Facilitar la devolución sin etiquetas ni embalaje, proporcionando un código QR que contiene la información clave del proceso de devolución.\n",
        "\n",
        "🔹 Cómo funciona:\n",
        "\n",
        "Recibe información de la devolución (ejemplo: \"Orden: 12345 - Punto de devolución: Sucursal A\").\n",
        "Genera un código QR con la información codificada.\n",
        "Guarda el código QR como imagen (codigo_qr.png) para que pueda ser escaneado en los puntos de devolución.\n",
        " Beneficios de la Optimización\n",
        "✅ Visualización inmediata del código QR sin necesidad de abrir el archivo manualmente.\n",
        "✅ El nombre del archivo es personalizable, permitiendo generar diferentes códigos sin sobreescribir."
      ],
      "metadata": {
        "id": "6OzfhJd-lyML"
      }
    },
    {
      "cell_type": "code",
      "source": [
        "# Instalación del paquete qrcode si no está disponible\n",
        "try:\n",
        "    import qrcode\n",
        "    import matplotlib.pyplot as plt\n",
        "except ModuleNotFoundError:\n",
        "    !pip install qrcode[pil] matplotlib\n",
        "    import qrcode\n",
        "    import matplotlib.pyplot as plt\n",
        "\n",
        "def generar_codigo_qr(info_devolucion, nombre_archivo=\"codigo_qr.png\"):\n",
        "    \"\"\"\n",
        "    Genera un código QR con los datos de devolución, lo guarda como imagen\n",
        "    y lo muestra en pantalla.\n",
        "    \"\"\"\n",
        "\n",
        "    # Crear código QR\n",
        "    qr = qrcode.make(info_devolucion)\n",
        "    qr.save(nombre_archivo)  # Guardar QR como imagen\n",
        "\n",
        "    # Mostrar el código QR generado\n",
        "    plt.imshow(qr, cmap=\"gray\")\n",
        "    plt.axis(\"off\")  # Ocultar ejes\n",
        "    plt.show()\n",
        "\n",
        "    print(f\"✅ Código QR generado y guardado como: {nombre_archivo}\")\n",
        "\n",
        "# Ejemplo de uso:\n",
        "# generar_codigo_qr(\"Orden: 12345 - Punto de devolución: Sucursal A\")\n"
      ],
      "metadata": {
        "colab": {
          "base_uri": "https://localhost:8080/"
        },
        "id": "ruSywU3nmHqn",
        "outputId": "a54b8bd4-de06-46ba-d572-1ab77dd90922"
      },
      "execution_count": 6,
      "outputs": [
        {
          "output_type": "stream",
          "name": "stdout",
          "text": [
            "Requirement already satisfied: matplotlib in /usr/local/lib/python3.11/dist-packages (3.10.0)\n",
            "Collecting qrcode[pil]\n",
            "  Downloading qrcode-8.0-py3-none-any.whl.metadata (17 kB)\n",
            "Requirement already satisfied: pillow>=9.1.0 in /usr/local/lib/python3.11/dist-packages (from qrcode[pil]) (11.1.0)\n",
            "Requirement already satisfied: contourpy>=1.0.1 in /usr/local/lib/python3.11/dist-packages (from matplotlib) (1.3.1)\n",
            "Requirement already satisfied: cycler>=0.10 in /usr/local/lib/python3.11/dist-packages (from matplotlib) (0.12.1)\n",
            "Requirement already satisfied: fonttools>=4.22.0 in /usr/local/lib/python3.11/dist-packages (from matplotlib) (4.55.8)\n",
            "Requirement already satisfied: kiwisolver>=1.3.1 in /usr/local/lib/python3.11/dist-packages (from matplotlib) (1.4.8)\n",
            "Requirement already satisfied: numpy>=1.23 in /usr/local/lib/python3.11/dist-packages (from matplotlib) (1.26.4)\n",
            "Requirement already satisfied: packaging>=20.0 in /usr/local/lib/python3.11/dist-packages (from matplotlib) (24.2)\n",
            "Requirement already satisfied: pyparsing>=2.3.1 in /usr/local/lib/python3.11/dist-packages (from matplotlib) (3.2.1)\n",
            "Requirement already satisfied: python-dateutil>=2.7 in /usr/local/lib/python3.11/dist-packages (from matplotlib) (2.8.2)\n",
            "Requirement already satisfied: six>=1.5 in /usr/local/lib/python3.11/dist-packages (from python-dateutil>=2.7->matplotlib) (1.17.0)\n",
            "Downloading qrcode-8.0-py3-none-any.whl (45 kB)\n",
            "\u001b[2K   \u001b[90m━━━━━━━━━━━━━━━━━━━━━━━━━━━━━━━━━━━━━━━━\u001b[0m \u001b[32m45.7/45.7 kB\u001b[0m \u001b[31m2.8 MB/s\u001b[0m eta \u001b[36m0:00:00\u001b[0m\n",
            "\u001b[?25hInstalling collected packages: qrcode\n",
            "Successfully installed qrcode-8.0\n"
          ]
        }
      ]
    },
    {
      "cell_type": "code",
      "source": [
        "# Importar librerías necesarias\n",
        "import qrcode\n",
        "import matplotlib.pyplot as plt\n",
        "\n",
        "def generar_codigo_qr(info_devolucion, nombre_archivo=\"codigo_qr.png\"):\n",
        "    \"\"\"\n",
        "    Genera un código QR con los datos de devolución, lo guarda como imagen\n",
        "    y lo muestra en pantalla.\n",
        "    \"\"\"\n",
        "\n",
        "    # Crear código QR\n",
        "    qr = qrcode.make(info_devolucion)\n",
        "    qr.save(nombre_archivo)  # Guardar QR como imagen\n",
        "\n",
        "    # Mostrar el código QR generado\n",
        "    plt.imshow(qr, cmap=\"gray\")\n",
        "    plt.axis(\"off\")  # Ocultar ejes\n",
        "    plt.show()\n",
        "\n",
        "    print(f\"✅ Código QR generado y guardado como: {nombre_archivo}\")\n",
        "\n",
        "# Ejemplo de uso:\n",
        "generar_codigo_qr(\"Orden: 12345 - Punto de devolución: Sucursal A\")\n"
      ],
      "metadata": {
        "colab": {
          "base_uri": "https://localhost:8080/",
          "height": 424
        },
        "id": "P8_qj0BEmx2E",
        "outputId": "6ba742be-7ebe-446a-ae63-af79c289cd21"
      },
      "execution_count": 7,
      "outputs": [
        {
          "output_type": "display_data",
          "data": {
            "text/plain": [
              "<Figure size 640x480 with 1 Axes>"
            ],
            "image/png": "[encoded data removed]"
          },
          "metadata": {}
        },
        {
          "output_type": "stream",
          "name": "stdout",
          "text": [
            "✅ Código QR generado y guardado como: codigo_qr.png\n"
          ]
        }
      ]
    },
    {
      "cell_type": "markdown",
      "source": [
        " Fase 4: Seguimiento de Reembolsos y Optimización Logística\n",
        "Esta fase se encarga de verificar, gestionar y automatizar el proceso de reembolsos para que el sistema controle si el cliente realmente devolvió el producto antes de procesar el reembolso.\n",
        " ¿Para qué sirve esta fase?\n",
        "Cuando un cliente devuelve un producto, el reembolso no debería procesarse hasta que el producto sea recibido y validado. Esta fase automatiza ese proceso para evitar fraudes, errores o retrasos en los reembolsos.\n",
        "\n",
        "💡 Ejemplo de problema sin esta fase:\n",
        "📦 Un cliente devuelve un producto, pero el reembolso se procesa sin verificar si el producto realmente llegó al centro de devoluciones.\n",
        "➡ Consecuencia: La empresa pierde dinero si el producto nunca se devuelve.\n",
        "\n",
        "💡 Solución con IA:\n",
        "📌 Un sistema automatizado rastrea el paquete devuelto y, cuando se recibe en el almacén, activa automáticamente el reembolso. Beneficios de esta Optimización\n",
        "✅ Evita fraudes asegurando que solo se reembolsen pedidos realmente devueltos.\n",
        "✅ Mejora la comunicación con el cliente enviando notificaciones automatizadas.\n",
        "✅ Reduce la carga operativa del equipo de atención al cliente.\n",
        "✅ Optimiza la logística al integrar una API de seguimiento de paquetes.\n",
        "\n",
        "\n"
      ],
      "metadata": {
        "id": "nJPLTTXXpah-"
      }
    },
    {
      "cell_type": "code",
      "source": [
        "import time\n",
        "import requests\n",
        "import smtplib\n",
        "from email.mime.text import MIMEText\n",
        "\n",
        "# Configuración del servidor de correo (Ejemplo con Gmail, se puede cambiar)\n",
        "SMTP_SERVER = \"smtp.gmail.com\"\n",
        "SMTP_PORT = 587\n",
        "EMAIL_USER = \"tu_email@gmail.com\"  # Cambia por tu email\n",
        "EMAIL_PASSWORD = \"tu_contraseña\"   # Usa una contraseña de aplicación segura\n",
        "\n",
        "def enviar_correo(destinatario, asunto, mensaje):\n",
        "    \"\"\"\n",
        "    Envía un correo electrónico notificando el estado del reembolso.\n",
        "    \"\"\"\n",
        "    try:\n",
        "        msg = MIMEText(mensaje)\n",
        "        msg[\"Subject\"] = asunto\n",
        "        msg[\"From\"] = EMAIL_USER\n",
        "        msg[\"To\"] = destinatario\n",
        "\n",
        "        server = smtplib.SMTP(SMTP_SERVER, SMTP_PORT)\n",
        "        server.starttls()\n",
        "        server.login(EMAIL_USER, EMAIL_PASSWORD)\n",
        "        server.sendmail(EMAIL_USER, destinatario, msg.as_string())\n",
        "        server.quit()\n",
        "\n",
        "        print(f\"📩 Notificación enviada a {destinatario}\")\n",
        "\n",
        "    except Exception as e:\n",
        "        print(f\"❌ Error enviando el email: {e}\")\n",
        "\n",
        "def verificar_estado_envio(tracking_number):\n",
        "    \"\"\"\n",
        "    Simula una consulta a una API de seguimiento de paquetes.\n",
        "    (En un caso real, se usaría una API de FedEx, DHL, UPS, etc.)\n",
        "    \"\"\"\n",
        "    url = f\"https://api.ejemplo-seguimiento.com/status/{tracking_number}\"  # Simulación\n",
        "    try:\n",
        "        response = requests.get(url)\n",
        "        data = response.json()\n",
        "        return data[\"status\"]  # Ejemplo: \"Entregado\", \"En tránsito\", \"Pendiente de envío\"\n",
        "    except:\n",
        "        return \"Error en la consulta\"\n",
        "\n",
        "def seguimiento_reembolso(orden, tracking_number, email_cliente):\n",
        "    \"\"\"\n",
        "    Verifica el estado de la devolución usando un tracking number.\n",
        "    Si el producto fue recibido, aprueba automáticamente el reembolso y envía una notificación al cliente.\n",
        "    \"\"\"\n",
        "    print(f\"📌 Consultando estado de la devolución para la orden {orden}...\")\n",
        "\n",
        "    estado = verificar_estado_envio(tracking_number)\n",
        "    time.sleep(2)  # Simulación de tiempo de consulta\n",
        "\n",
        "    if estado.lower() == \"entregado\":\n",
        "        print(f\"✅ Producto recibido. Reembolso procesado para la orden {orden}. Será acreditado en 3 días hábiles.\")\n",
        "        enviar_correo(\n",
        "            email_cliente,\n",
        "            \"📢 Confirmación de Reembolso\",\n",
        "            f\"Estimado cliente,\\n\\nHemos recibido su devolución para la orden {orden}. Su reembolso será acreditado en 3 días hábiles.\\n\\nGracias por su paciencia.\\n\\nAtentamente,\\nEquipo de Atención al Cliente\"\n",
        "        )\n",
        "    else:\n",
        "        print(f\"⚠️ Aún no hemos recibido el producto de la orden {orden}. Estado actual: {estado}.\")\n",
        "        enviar_correo(\n",
        "            email_cliente,\n",
        "            \"🚨 Devolución Pendiente\",\n",
        "            f\"Estimado cliente,\\n\\nNo hemos recibido su devolución para la orden {orden}. Estado actual: {estado}.\\n\\nPor favor, complete la devolución lo antes posible para procesar su reembolso.\\n\\nAtentamente,\\nEquipo de Atención al Cliente\"\n",
        "        )\n",
        "\n",
        "# Ejemplo de uso:\n",
        "# seguimiento_reembolso(\"12345\", \"XYZ987654\", \"cliente@example.com\")\n"
      ],
      "metadata": {
        "id": "ZwamTU6Tp9NU"
      },
      "execution_count": 9,
      "outputs": []
    }
  ]
}